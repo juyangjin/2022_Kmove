{
  "nbformat": 4,
  "nbformat_minor": 0,
  "metadata": {
    "colab": {
      "provenance": [],
      "collapsed_sections": [
        "Dz2mWkiZazvJ"
      ],
      "toc_visible": true,
      "authorship_tag": "ABX9TyNMj1hCVOB+tviy5pQLsbVs",
      "include_colab_link": true
    },
    "kernelspec": {
      "name": "python3",
      "display_name": "Python 3"
    },
    "language_info": {
      "name": "python"
    }
  },
  "cells": [
    {
      "cell_type": "markdown",
      "metadata": {
        "id": "view-in-github",
        "colab_type": "text"
      },
      "source": [
        "<a href=\"https://colab.research.google.com/github/juyangjin/2022_Kmove/blob/master/Python7%EC%9B%94_13%EC%9D%BC.ipynb\" target=\"_parent\"><img src=\"https://colab.research.google.com/assets/colab-badge.svg\" alt=\"Open In Colab\"/></a>"
      ]
    },
    {
      "cell_type": "markdown",
      "source": [
        "# 7월 13일\n"
      ],
      "metadata": {
        "id": "Dz2mWkiZazvJ"
      }
    },
    {
      "cell_type": "code",
      "execution_count": null,
      "metadata": {
        "id": "SnvZilquWwqm"
      },
      "outputs": [],
      "source": [
        "print('Hello world');"
      ]
    },
    {
      "cell_type": "code",
      "source": [
        "print('A');\n",
        "print(a);"
      ],
      "metadata": {
        "id": "6bbUTBw3ns9W"
      },
      "execution_count": null,
      "outputs": []
    },
    {
      "cell_type": "code",
      "source": [
        "print(\"I'm fine\");"
      ],
      "metadata": {
        "id": "itld2YdgDm6H"
      },
      "execution_count": null,
      "outputs": []
    },
    {
      "cell_type": "code",
      "source": [
        "a = 'korea';\n",
        "print(a[3:0:-1]); #시작:끝:step"
      ],
      "metadata": {
        "colab": {
          "base_uri": "https://localhost:8080/"
        },
        "id": "6mNDVQwALwx4",
        "outputId": "de2fd712-2bd9-4d67-9867-ead794795e3d"
      },
      "execution_count": null,
      "outputs": [
        {
          "output_type": "stream",
          "name": "stdout",
          "text": [
            "ero\n"
          ]
        }
      ]
    }
  ]
}