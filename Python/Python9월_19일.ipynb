{
  "nbformat": 4,
  "nbformat_minor": 0,
  "metadata": {
    "colab": {
      "provenance": [],
      "collapsed_sections": [
        "T5bkYYZ7DjVQ"
      ],
      "toc_visible": true,
      "authorship_tag": "ABX9TyP4WGgORVkyw3xGLYFGDUiI",
      "include_colab_link": true
    },
    "kernelspec": {
      "name": "python3",
      "display_name": "Python 3"
    },
    "language_info": {
      "name": "python"
    }
  },
  "cells": [
    {
      "cell_type": "markdown",
      "metadata": {
        "id": "view-in-github",
        "colab_type": "text"
      },
      "source": [
        "<a href=\"https://colab.research.google.com/github/juyangjin/2022_Kmove/blob/master/Python/Python9%EC%9B%94_19%EC%9D%BC.ipynb\" target=\"_parent\"><img src=\"https://colab.research.google.com/assets/colab-badge.svg\" alt=\"Open In Colab\"/></a>"
      ]
    },
    {
      "cell_type": "markdown",
      "source": [
        "# 9월 19일"
      ],
      "metadata": {
        "id": "T5bkYYZ7DjVQ"
      }
    },
    {
      "cell_type": "code",
      "source": [
        "a = range(5)\n",
        "print(a)\n",
        "print(list(a))\n",
        "b = list(a)\n",
        "print(b)\n",
        "\n",
        "print(list(range(0,5)))\n",
        "print(list(range(0,10,2)))\n",
        "\n",
        "n = 10\n",
        "#c = range(0,n/2)\n",
        "c = range(0,n//2)\n",
        "print(c)"
      ],
      "metadata": {
        "colab": {
          "base_uri": "https://localhost:8080/"
        },
        "id": "gYJ0hySBEZ4Y",
        "outputId": "915a0868-a5b9-40fa-8c14-b1999d21ee20"
      },
      "execution_count": null,
      "outputs": [
        {
          "output_type": "stream",
          "name": "stdout",
          "text": [
            "range(0, 5)\n",
            "[0, 1, 2, 3, 4]\n",
            "[0, 1, 2, 3, 4]\n",
            "[0, 1, 2, 3, 4]\n",
            "[0, 2, 4, 6, 8]\n",
            "range(0, 5)\n"
          ]
        }
      ]
    },
    {
      "cell_type": "code",
      "source": [
        "for i in range(5):\n",
        "    print(str(i) + \"=\")\n",
        "    print(i)\n",
        "\n",
        "    print()\n",
        "\n",
        "    for i in list(range(5)):\n",
        "        print(i)"
      ],
      "metadata": {
        "colab": {
          "base_uri": "https://localhost:8080/"
        },
        "id": "3V0Zj-IDGCxp",
        "outputId": "36d5b96e-86c1-4985-d64b-ad19921af32a"
      },
      "execution_count": null,
      "outputs": [
        {
          "output_type": "stream",
          "name": "stdout",
          "text": [
            "0=\n",
            "0\n",
            "\n",
            "0\n",
            "1\n",
            "2\n",
            "3\n",
            "4\n",
            "1=\n",
            "1\n",
            "\n",
            "0\n",
            "1\n",
            "2\n",
            "3\n",
            "4\n",
            "2=\n",
            "2\n",
            "\n",
            "0\n",
            "1\n",
            "2\n",
            "3\n",
            "4\n",
            "3=\n",
            "3\n",
            "\n",
            "0\n",
            "1\n",
            "2\n",
            "3\n",
            "4\n",
            "4=\n",
            "4\n",
            "\n",
            "0\n",
            "1\n",
            "2\n",
            "3\n",
            "4\n"
          ]
        }
      ]
    },
    {
      "cell_type": "code",
      "source": [
        "#구구단\n",
        "for i in range(2,10):\n",
        "    for e in range(1,10):\n",
        "        print(i,\"*\",e,\"=\",i*e)"
      ],
      "metadata": {
        "colab": {
          "base_uri": "https://localhost:8080/"
        },
        "id": "4ceNVnDTGvnH",
        "outputId": "98b57ee2-52f9-40cc-d99d-d48675a4d3fb"
      },
      "execution_count": null,
      "outputs": [
        {
          "output_type": "stream",
          "name": "stdout",
          "text": [
            "2 * 1 = 2\n",
            "2 * 2 = 4\n",
            "2 * 3 = 6\n",
            "2 * 4 = 8\n",
            "2 * 5 = 10\n",
            "2 * 6 = 12\n",
            "2 * 7 = 14\n",
            "2 * 8 = 16\n",
            "2 * 9 = 18\n",
            "3 * 1 = 3\n",
            "3 * 2 = 6\n",
            "3 * 3 = 9\n",
            "3 * 4 = 12\n",
            "3 * 5 = 15\n",
            "3 * 6 = 18\n",
            "3 * 7 = 21\n",
            "3 * 8 = 24\n",
            "3 * 9 = 27\n",
            "4 * 1 = 4\n",
            "4 * 2 = 8\n",
            "4 * 3 = 12\n",
            "4 * 4 = 16\n",
            "4 * 5 = 20\n",
            "4 * 6 = 24\n",
            "4 * 7 = 28\n",
            "4 * 8 = 32\n",
            "4 * 9 = 36\n",
            "5 * 1 = 5\n",
            "5 * 2 = 10\n",
            "5 * 3 = 15\n",
            "5 * 4 = 20\n",
            "5 * 5 = 25\n",
            "5 * 6 = 30\n",
            "5 * 7 = 35\n",
            "5 * 8 = 40\n",
            "5 * 9 = 45\n",
            "6 * 1 = 6\n",
            "6 * 2 = 12\n",
            "6 * 3 = 18\n",
            "6 * 4 = 24\n",
            "6 * 5 = 30\n",
            "6 * 6 = 36\n",
            "6 * 7 = 42\n",
            "6 * 8 = 48\n",
            "6 * 9 = 54\n",
            "7 * 1 = 7\n",
            "7 * 2 = 14\n",
            "7 * 3 = 21\n",
            "7 * 4 = 28\n",
            "7 * 5 = 35\n",
            "7 * 6 = 42\n",
            "7 * 7 = 49\n",
            "7 * 8 = 56\n",
            "7 * 9 = 63\n",
            "8 * 1 = 8\n",
            "8 * 2 = 16\n",
            "8 * 3 = 24\n",
            "8 * 4 = 32\n",
            "8 * 5 = 40\n",
            "8 * 6 = 48\n",
            "8 * 7 = 56\n",
            "8 * 8 = 64\n",
            "8 * 9 = 72\n",
            "9 * 1 = 9\n",
            "9 * 2 = 18\n",
            "9 * 3 = 27\n",
            "9 * 4 = 36\n",
            "9 * 5 = 45\n",
            "9 * 6 = 54\n",
            "9 * 7 = 63\n",
            "9 * 8 = 72\n",
            "9 * 9 = 81\n"
          ]
        }
      ]
    },
    {
      "cell_type": "code",
      "source": [
        "for i in range(4,-1,-1):\n",
        "    print(i)\n",
        "\n",
        "print()\n",
        "\n",
        "for i in reversed(range(5)):\n",
        "    print(i)"
      ],
      "metadata": {
        "colab": {
          "base_uri": "https://localhost:8080/"
        },
        "id": "MFw1D2vrJw1G",
        "outputId": "c1ffc1c6-7464-4c03-9ed8-fbcbf5b9e16f"
      },
      "execution_count": null,
      "outputs": [
        {
          "output_type": "stream",
          "name": "stdout",
          "text": [
            "4\n",
            "3\n",
            "2\n",
            "1\n",
            "0\n",
            "\n",
            "4\n",
            "3\n",
            "2\n",
            "1\n",
            "0\n"
          ]
        }
      ]
    },
    {
      "cell_type": "code",
      "source": [
        "i=0\n",
        "while i<10:\n",
        "    print(i)\n",
        "    i += 1"
      ],
      "metadata": {
        "colab": {
          "base_uri": "https://localhost:8080/"
        },
        "id": "KNgVbEs6LPLF",
        "outputId": "875d5672-e611-4877-a419-f4b1a5a251b2"
      },
      "execution_count": null,
      "outputs": [
        {
          "output_type": "stream",
          "name": "stdout",
          "text": [
            "0\n",
            "1\n",
            "2\n",
            "3\n",
            "4\n",
            "5\n",
            "6\n",
            "7\n",
            "8\n",
            "9\n"
          ]
        }
      ]
    },
    {
      "cell_type": "code",
      "source": [
        "for i in range(10):\n",
        "    print(i)\n"
      ],
      "metadata": {
        "colab": {
          "base_uri": "https://localhost:8080/"
        },
        "id": "yRnmWLaLLpsl",
        "outputId": "4d283adf-5df2-408c-fe74-45b7d688987d"
      },
      "execution_count": null,
      "outputs": [
        {
          "output_type": "stream",
          "name": "stdout",
          "text": [
            "0\n",
            "1\n",
            "2\n",
            "3\n",
            "4\n",
            "5\n",
            "6\n",
            "7\n",
            "8\n",
            "9\n"
          ]
        }
      ]
    },
    {
      "cell_type": "code",
      "source": [
        "#break\n",
        "\n",
        "i=0\n",
        "\n",
        "while True:\n",
        "    print('{} repeat count'.format(i))\n",
        "    i += 1\n",
        "    inputText = input('Do you want to quit(y)')\n",
        "    if inputText in ('y','Y'):\n",
        "        print('Quit repeat')\n",
        "        break"
      ],
      "metadata": {
        "colab": {
          "base_uri": "https://localhost:8080/"
        },
        "id": "qVOz7qhqMEle",
        "outputId": "474d5266-da4e-4269-c046-cc459b46e385"
      },
      "execution_count": null,
      "outputs": [
        {
          "output_type": "stream",
          "name": "stdout",
          "text": [
            "0 repeat count\n",
            "Do you want to quit(y)y\n",
            "Quit repeat\n"
          ]
        }
      ]
    },
    {
      "cell_type": "code",
      "source": [
        "#continue\n",
        "\n",
        "nums = [1,2,3,4,5]\n",
        "\n",
        "for num in nums:\n",
        "    if num <3:\n",
        "        continue #조건이 맞을 경우, 다시 for 문으로 돌아가게 된다. 따라서 num이 3 보다 작을 때는 출력이 되질 않는다.\n",
        "    print(num)"
      ],
      "metadata": {
        "colab": {
          "base_uri": "https://localhost:8080/"
        },
        "id": "58tz7vjtRiXQ",
        "outputId": "8dc7ec98-c086-4649-93e4-425e6a763e5a"
      },
      "execution_count": null,
      "outputs": [
        {
          "output_type": "stream",
          "name": "stdout",
          "text": [
            "3\n",
            "4\n",
            "5\n"
          ]
        }
      ]
    },
    {
      "cell_type": "code",
      "source": [
        "#Quiz 2\n",
        "key_list = ['name','hp','mp','level']\n",
        "value_list = ['Hong', 200, 30, 5]\n",
        "character = {}\n",
        "\n",
        "for i in range(len(key_list)):\n",
        "    character[key_list[i]] = value_list[i]\n",
        "\n",
        "print(character)"
      ],
      "metadata": {
        "colab": {
          "base_uri": "https://localhost:8080/"
        },
        "id": "k4d9yta_R-l4",
        "outputId": "c005747c-3d5e-4873-fd00-bff198bde2e7"
      },
      "execution_count": null,
      "outputs": [
        {
          "output_type": "stream",
          "name": "stdout",
          "text": [
            "{'name': 'Hong', 'hp': 200, 'mp': 30, 'level': 5}\n"
          ]
        }
      ]
    },
    {
      "cell_type": "code",
      "source": [
        "array = [i for i in range(0, 20, 2)]\n",
        "\n",
        "#for i in range(0, 20, 2):\n",
        " #   array.append(i)\n",
        "\n",
        "print(array)"
      ],
      "metadata": {
        "colab": {
          "base_uri": "https://localhost:8080/"
        },
        "id": "c0Pxu30lU3Rg",
        "outputId": "37698499-2a0e-4d86-dbcb-0bc75ad4aca6"
      },
      "execution_count": null,
      "outputs": [
        {
          "output_type": "stream",
          "name": "stdout",
          "text": [
            "[0, 2, 4, 6, 8, 10, 12, 14, 16, 18]\n"
          ]
        }
      ]
    },
    {
      "cell_type": "code",
      "source": [
        "#list with for loop\n",
        "array = [i*i for i in range(0, 20, 3)]\n",
        "\n",
        "print(array)"
      ],
      "metadata": {
        "colab": {
          "base_uri": "https://localhost:8080/"
        },
        "id": "lunU-SY1VVk3",
        "outputId": "5ae4010e-5d3a-4118-bce3-387ad9132147"
      },
      "execution_count": null,
      "outputs": [
        {
          "output_type": "stream",
          "name": "stdout",
          "text": [
            "[0, 9, 36, 81, 144, 225, 324]\n"
          ]
        }
      ]
    },
    {
      "cell_type": "code",
      "source": [
        "#가위바위보 게임\n",
        "# -> 두번 연속 이겼을 때를 생각해서 \n",
        "import time\n",
        "\n",
        "seed = time.time()\n",
        "#print(seed)\n",
        "#print(int(seed))\n",
        "#print(int(seed)%3)\n",
        "j = 0;\n",
        "while j < 3:\n",
        "    j += 1;\n",
        "    user_hand = input('무엇을 내시겠어요? ')\n",
        "    \n",
        "    if user_hand in ('가위','kawi'):\n",
        "        seed =int(time.time())\n",
        "        com_hand = seed % 3\n",
        "        \n",
        "        if com_hand == 0:\n",
        "            print(\"(가위) 무승부\") \n",
        "        elif com_hand == 1:\n",
        "             print(\"(바위) 사용자가 패배했습니다.\")\n",
        "             j = 4;\n",
        "             print(\"패배로 인한 종료\")\n",
        "        else:\n",
        "            print(\"(보) 사용자가 승리했습니다.\")\n",
        "        \n",
        "    elif user_hand in ('바위','bawi'):\n",
        "        seed = int(time.time())\n",
        "        com_hand = seed % 3\n",
        "    \n",
        "        if com_hand == 0:\n",
        "            print(\"(가위) 사용자가 승리했습니다.\")\n",
        "        elif com_hand == 1:\n",
        "            print(\"(바위) 무승부\")\n",
        "        else:\n",
        "            print(\"(보) 사용자가 패배했습니다.\")\n",
        "            j = 4;\n",
        "            print(\"패배로 인한 종료\")\n",
        "\n",
        "    elif user_hand in ('보','bo'):\n",
        "        seed = int(time.time())\n",
        "        om_hand = seed % 3\n",
        "        \n",
        "        if com_hand == 0:\n",
        "            print(\"(가위) 사용자가 패배했습니다.\")\n",
        "            j = 4;\n",
        "            print(\"패배로 인한 종료\")\n",
        "        elif com_hand == 1:\n",
        "            print(\"(바위) 사용자가 승리했습니다.\")\n",
        "        else:\n",
        "            print(\"(보) 무승부\")\n"
      ],
      "metadata": {
        "colab": {
          "base_uri": "https://localhost:8080/"
        },
        "id": "fJzvlRHEVzkf",
        "outputId": "0291ead1-8732-4c1f-bfbe-d3103fd53d05"
      },
      "execution_count": null,
      "outputs": [
        {
          "output_type": "stream",
          "name": "stdout",
          "text": [
            "무엇을 내시겠어요? 가위\n",
            "(보) 사용자가 승리했습니다.\n",
            "무엇을 내시겠어요? 바위\n",
            "(바위) 무승부\n",
            "무엇을 내시겠어요? 보\n",
            "(바위) 사용자가 승리했습니다.\n"
          ]
        }
      ]
    },
    {
      "cell_type": "code",
      "source": [
        "# 1번 문제 - 동준이 풀이\n",
        "import time\n",
        "\n",
        "count = 0\n",
        "uw=0\n",
        "cw=0\n",
        "while count < 3:\n",
        "    user = input('가위 바위 보 중 하나를 입력하시오 : ')\n",
        "\n",
        "    if user != '가위' and user != '바위' and user != '보':\n",
        "        print('올바른 값을 입력해주세요!')\n",
        "        continue\n",
        "    if user == '끝':\n",
        "        print('게임을 끝냅니다.')\n",
        "        break\n",
        "\n",
        "    if user == '가위':\n",
        "        user = 0\n",
        "    elif user == '바위':\n",
        "        user = 1\n",
        "    else:\n",
        "        user = 2\n",
        "\n",
        "    com = int(time.time()) % 3\n",
        "    if com == 0:\n",
        "        print(\"컴퓨터 = 가위\")\n",
        "    elif com == 1:\n",
        "        print(\"컴퓨터 = 바위\")\n",
        "    else:\n",
        "        print(\"컴퓨터 = 보\")\n",
        "\n",
        "    if user == com:\n",
        "        print(\"비겼습니다.\")\n",
        "    elif user - 1 == com or user + 2 == com:\n",
        "        print(\"이겼습니다.\")\n",
        "        uw += 1\n",
        "    else:\n",
        "        print(\"졌습니다.\")\n",
        "        cw += 1\n",
        "    \n",
        "    if uw >= 2 or cw >= 2:\n",
        "        break\n",
        "\n",
        "    print()\n",
        "    count += 1\n",
        "\n",
        "if uw > cw:\n",
        "    print(\"유저가 최종승리하였습니다.\")\n",
        "elif uw < cw:\n",
        "    print(\"컴퓨터가 최종승리하였습니다.\")\n",
        "else:\n",
        "    print(\"무승부입니다.\")"
      ],
      "metadata": {
        "colab": {
          "base_uri": "https://localhost:8080/"
        },
        "id": "LTdJnFsfekbM",
        "outputId": "00706f63-2604-42e0-b32d-5a2bc333bb64"
      },
      "execution_count": null,
      "outputs": [
        {
          "output_type": "stream",
          "name": "stdout",
          "text": [
            "가위 바위 보 중 하나를 입력하시오 : 가위\n",
            "컴퓨터 = 가위\n",
            "비겼습니다.\n",
            "\n",
            "가위 바위 보 중 하나를 입력하시오 : 바위\n",
            "컴퓨터 = 가위\n",
            "이겼습니다.\n",
            "\n",
            "가위 바위 보 중 하나를 입력하시오 : 보\n",
            "컴퓨터 = 가위\n",
            "졌습니다.\n",
            "\n",
            "무승부입니다.\n"
          ]
        }
      ]
    }
  ]
}