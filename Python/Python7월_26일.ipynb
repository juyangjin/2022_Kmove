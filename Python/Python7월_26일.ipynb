{
  "nbformat": 4,
  "nbformat_minor": 0,
  "metadata": {
    "colab": {
      "provenance": [],
      "collapsed_sections": [
        "C2UuOdzq2S5z"
      ],
      "toc_visible": true,
      "authorship_tag": "ABX9TyMX6HMvFfeQ4utB0lwoOsKx",
      "include_colab_link": true
    },
    "kernelspec": {
      "name": "python3",
      "display_name": "Python 3"
    },
    "language_info": {
      "name": "python"
    }
  },
  "cells": [
    {
      "cell_type": "markdown",
      "metadata": {
        "id": "view-in-github",
        "colab_type": "text"
      },
      "source": [
        "<a href=\"https://colab.research.google.com/github/juyangjin/2022_Kmove/blob/master/Python/Python7%EC%9B%94_26%EC%9D%BC.ipynb\" target=\"_parent\"><img src=\"https://colab.research.google.com/assets/colab-badge.svg\" alt=\"Open In Colab\"/></a>"
      ]
    },
    {
      "cell_type": "markdown",
      "source": [
        "# 7월 26일\n"
      ],
      "metadata": {
        "id": "C2UuOdzq2S5z"
      }
    },
    {
      "cell_type": "markdown",
      "source": [
        "**굵은 텍스트**# 새 섹션"
      ],
      "metadata": {
        "id": "RE9poFu2heAT"
      }
    },
    {
      "cell_type": "code",
      "source": [
        "print(\"if 조건문에 0 넣기\")\n",
        "if 0:\n",
        "    print(\"0은 True로 변환됩니다.\")\n",
        "else:\n",
        "    print(\"0은 False로 변환됩니다.\")\n",
        "print()\n",
        "\n",
        "print(\"if 조건문에 빈 문자열 넣기\")\n",
        "if \"\": \n",
        "    print(\"빈 문자열은 True로 변환됩니다.\")\n",
        "else:\n",
        "    print(\"빈 문자열은 False로 변환됩니다.\")"
      ],
      "metadata": {
        "id": "X2njrpHd2YhC"
      },
      "execution_count": null,
      "outputs": []
    },
    {
      "cell_type": "markdown",
      "source": [
        "if zefo == 0:\n",
        "   \n",
        "else:\n",
        " "
      ],
      "metadata": {
        "id": "lDDEYKl55Emq"
      }
    },
    {
      "cell_type": "code",
      "source": [
        "#입력을 받습니다.\n",
        "number = input(\"정수 입력> \")\n",
        "number = int(number)\n",
        "\n",
        "#조건문 사용\n",
        "if number > 0:\n",
        "    #양수일 때:아직 미구현 상태입니다.\n",
        "    pass\n",
        "else:\n",
        "    #음수일 때:아직 미구현 상태입니다.\n",
        "    pass\n",
        "#미완성일 때는 pass 키워드를 사용하면 된다."
      ],
      "metadata": {
        "id": "-U3v-q9N4u4p"
      },
      "execution_count": null,
      "outputs": []
    },
    {
      "cell_type": "code",
      "source": [
        "x = 10\n",
        "y = 2\n",
        "\n",
        "if x > 4:\n",
        "    if y > 2:\n",
        "        print(x * y)\n",
        "else:\n",
        "    print(x + y)\n",
        "\n",
        "#두번째 if의 조건을 만족하지 않기 때문에 아무것도 출력되지 않는다."
      ],
      "metadata": {
        "id": "3DFdrWIK6XgK"
      },
      "execution_count": null,
      "outputs": []
    },
    {
      "cell_type": "code",
      "source": [
        "if 20 > x > 10:\n",
        "    print(\"조건에 맞습니다.\")"
      ],
      "metadata": {
        "id": "EzTESlQC6wtK"
      },
      "execution_count": null,
      "outputs": []
    },
    {
      "cell_type": "code",
      "source": [
        "array = [273, 32, 103, \"문자열\", True, False]\n",
        "print(array)\n",
        "\n",
        "array[5]"
      ],
      "metadata": {
        "id": "4h7HgAm-7vcJ"
      },
      "execution_count": null,
      "outputs": []
    },
    {
      "cell_type": "code",
      "source": [
        "list_a = [1, 2, 3]\n",
        "list_b = [4, 5, 6]\n",
        "\n",
        "print(\"리스트 기본 연산자\")\n",
        "print(\"list_a + list_b=\",list_a + list_b)\n",
        "print(\"list_a * 3=\",list_a * 3)\n",
        "print()\n",
        "\n",
        "print(\"길이 구하기\")\n",
        "print(\"len(list_a) =\",len(list_a))"
      ],
      "metadata": {
        "id": "fh8mqdOzIKyq"
      },
      "execution_count": null,
      "outputs": []
    },
    {
      "cell_type": "code",
      "source": [
        "list_a = [1,2,3]\n",
        "\n",
        "print(\"리스트 뒤에 요소 추가\")\n",
        "list_a.append(4)\n",
        "list_a.append(5)\n",
        "print(list_a)\n",
        "print()\n",
        "\n",
        "print(\"리스트 중간에 요소 추가하기\")\n",
        "list_a.insert(0,10)\n",
        "list_a.insert(3,11)\n",
        "print(list_a)\n",
        "\n",
        "print(\"extend 함수 사용하기\")\n",
        "list_a.extend([4,5,6])\n",
        "print(list_a)"
      ],
      "metadata": {
        "id": "G325P5FHKaCa"
      },
      "execution_count": null,
      "outputs": []
    },
    {
      "cell_type": "code",
      "source": [
        "list_a=[0,1,2,3,4,5]\n",
        "print(\"list_a:\",list_a)\n",
        "print(\"리스트 요소 제거하기\")\n",
        "\n",
        "del list_a[1]\n",
        "print(\"del list_a[1]:\",list_a)\n",
        "\n",
        "list_a.pop(2)\n",
        "print(\"pop list_a(2):\",list_a)"
      ],
      "metadata": {
        "id": "1f0SghHfMBmy"
      },
      "execution_count": null,
      "outputs": []
    },
    {
      "cell_type": "code",
      "source": [
        "for i in range(5,9):\n",
        "    print(i)\n",
        "\n",
        "team = ['A','B','C']"
      ],
      "metadata": {
        "id": "ycQGeWtLO0fK"
      },
      "execution_count": null,
      "outputs": []
    },
    {
      "cell_type": "code",
      "source": [
        "numbers = [273, 103, 5, 32, 65, 9 ,72, 800, 99]\n",
        "\n",
        "for number in numbers:\n",
        "    if number > 100:\n",
        "        print(\"- 100 이상의 수:\",number)"
      ],
      "metadata": {
        "id": "QLSre7zsUBPa"
      },
      "execution_count": null,
      "outputs": []
    },
    {
      "cell_type": "markdown",
      "source": [
        "퀴즈 1번"
      ],
      "metadata": {
        "id": "loDftL97e57B"
      }
    },
    {
      "cell_type": "code",
      "source": [
        "list_a = []\n",
        "list_b = []\n",
        "print('list_a : ', list_a)\n",
        "print('list_b : ', list_b)\n",
        "\n",
        "for i in range(10):\n",
        "    a = int(input('정수를 입력하세요: '))\n",
        "    list_a.append(a)\n",
        "    if list_a[i] % 3 == 0:\n",
        "        list_b.append(list_a[i])\n",
        "\n",
        "print('list_a : ', list_a)\n",
        "print('list_a에서 3의 배수만 출력 : ', list_b)"
      ],
      "metadata": {
        "colab": {
          "base_uri": "https://localhost:8080/"
        },
        "id": "tuxtI-sWVKha",
        "outputId": "a2d35c0f-fa10-4684-fe2f-5c772dda800c"
      },
      "execution_count": null,
      "outputs": [
        {
          "output_type": "stream",
          "name": "stdout",
          "text": [
            "list_a :  []\n",
            "list_b :  []\n",
            "정수를 입력하세요: 3\n",
            "정수를 입력하세요: 4\n",
            "정수를 입력하세요: 2\n",
            "정수를 입력하세요: 3\n",
            "정수를 입력하세요: 56\n",
            "정수를 입력하세요: 7\n",
            "정수를 입력하세요: 8\n",
            "정수를 입력하세요: 4\n",
            "정수를 입력하세요: 20\n",
            "정수를 입력하세요: 2020\n",
            "list_a :  [3, 4, 2, 3, 56, 7, 8, 4, 20, 2020]\n",
            "list_a에서 3의 배수만 출력 :  [3, 3]\n"
          ]
        }
      ]
    },
    {
      "cell_type": "markdown",
      "source": [
        "퀴즈 2번"
      ],
      "metadata": {
        "id": "3fQZOQSVe9Nh"
      }
    },
    {
      "cell_type": "code",
      "source": [
        "engs = [\"student\",\"love\",\"java\",\"happy\",\"future\"]\n",
        "kors = [\"학생\",\"사랑\",\"자바\",\"행복한\",\"미래\"]\n",
        "print(\"영단어를 입력하세요\")\n",
        "\n",
        "c=0\n",
        "sum = input()\n",
        "for i in engs:\n",
        "    if i == sum:\n",
        "        print(kors[c])\n",
        "        break\n",
        "    c+=1\n",
        "print(\"프로그램을 종료합니다.\")"
      ],
      "metadata": {
        "colab": {
          "base_uri": "https://localhost:8080/"
        },
        "id": "Vn6UaqMkVxdZ",
        "outputId": "cd1a14a8-e79e-4617-86be-765ac414ef03"
      },
      "execution_count": null,
      "outputs": [
        {
          "output_type": "stream",
          "name": "stdout",
          "text": [
            "영단어를 입력하세요\n",
            "love\n",
            "사랑\n",
            "프로그램을 종료합니다.\n"
          ]
        }
      ]
    },
    {
      "cell_type": "markdown",
      "source": [
        "퀴즈 3번"
      ],
      "metadata": {
        "id": "ZMMfkkfLe-cJ"
      }
    },
    {
      "cell_type": "code",
      "source": [
        "sum = 0\n",
        "for i in range(10):\n",
        "    sum = sum + i*i\n",
        "    print(sum)"
      ],
      "metadata": {
        "colab": {
          "base_uri": "https://localhost:8080/"
        },
        "id": "bAyagwzfZjLh",
        "outputId": "ba050c4a-aa45-48a5-86ab-d42dde989a8e"
      },
      "execution_count": null,
      "outputs": [
        {
          "output_type": "stream",
          "name": "stdout",
          "text": [
            "0\n",
            "1\n",
            "5\n",
            "14\n",
            "30\n",
            "55\n",
            "91\n",
            "140\n",
            "204\n",
            "285\n"
          ]
        }
      ]
    }
  ]
}