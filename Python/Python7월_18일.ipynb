{
  "nbformat": 4,
  "nbformat_minor": 0,
  "metadata": {
    "colab": {
      "provenance": [],
      "collapsed_sections": [
        "_S3V9w86ycw1"
      ],
      "toc_visible": true,
      "authorship_tag": "ABX9TyPkEfjIxfbBtkxvOKL01fBo",
      "include_colab_link": true
    },
    "kernelspec": {
      "name": "python3",
      "display_name": "Python 3"
    },
    "language_info": {
      "name": "python"
    }
  },
  "cells": [
    {
      "cell_type": "markdown",
      "metadata": {
        "id": "view-in-github",
        "colab_type": "text"
      },
      "source": [
        "<a href=\"https://colab.research.google.com/github/juyangjin/2022_Kmove/blob/master/Python/Python7%EC%9B%94_18%EC%9D%BC.ipynb\" target=\"_parent\"><img src=\"https://colab.research.google.com/assets/colab-badge.svg\" alt=\"Open In Colab\"/></a>"
      ]
    },
    {
      "cell_type": "markdown",
      "source": [
        "# 7월 18일"
      ],
      "metadata": {
        "id": "_S3V9w86ycw1"
      }
    },
    {
      "cell_type": "code",
      "source": [
        "kor = input();\n",
        "eng = input();\n",
        "math = input();\n",
        "total = int(kor) + int(eng) + int(math);\n",
        "print(total);"
      ],
      "metadata": {
        "id": "TrqGvR6HyoEL"
      },
      "execution_count": null,
      "outputs": []
    }
  ]
}