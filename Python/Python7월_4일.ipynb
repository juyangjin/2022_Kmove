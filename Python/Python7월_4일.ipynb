{
  "nbformat": 4,
  "nbformat_minor": 0,
  "metadata": {
    "colab": {
      "provenance": [],
      "collapsed_sections": [],
      "toc_visible": true,
      "authorship_tag": "ABX9TyPIjX3TLvCtjyo62ru04I7y",
      "include_colab_link": true
    },
    "kernelspec": {
      "name": "python3",
      "display_name": "Python 3"
    },
    "language_info": {
      "name": "python"
    }
  },
  "cells": [
    {
      "cell_type": "markdown",
      "metadata": {
        "id": "view-in-github",
        "colab_type": "text"
      },
      "source": [
        "<a href=\"https://colab.research.google.com/github/juyangjin/2022_Kmove/blob/master/Python/Python7%EC%9B%94_4%EC%9D%BC.ipynb\" target=\"_parent\"><img src=\"https://colab.research.google.com/assets/colab-badge.svg\" alt=\"Open In Colab\"/></a>"
      ]
    },
    {
      "cell_type": "markdown",
      "source": [
        "#7월 4일"
      ],
      "metadata": {
        "id": "acrNd9H6C52w"
      }
    },
    {
      "cell_type": "markdown",
      "source": [
        "소스코드 1번"
      ],
      "metadata": {
        "id": "81MhCUzDbiGw"
      }
    },
    {
      "cell_type": "code",
      "source": [
        "number = input(\"학번을 입력하세요->\")\n",
        "name = input(\"이름을 입력하세요->\")\n",
        "\n",
        "print(\"학번:\" + number + \"\\n이름:\" + name)"
      ],
      "metadata": {
        "id": "Ps9JI6eAa36T"
      },
      "execution_count": null,
      "outputs": []
    },
    {
      "cell_type": "markdown",
      "source": [
        "소스코드 2번"
      ],
      "metadata": {
        "id": "YVipoQKfbkpx"
      }
    },
    {
      "cell_type": "code",
      "source": [
        "#소스코드 2번\n",
        "number = input(\"주민번호를 입력하세요->\")\n",
        "a = int(number[0])\n",
        "year = number[0:2]\n",
        "month = int(number[2:4])\n",
        "day = int(number[4:6])\n",
        "sex = int(number[6])\n",
        "\n",
        "if sex==1 or sex==3:\n",
        "    sex_result = (\"남성\")\n",
        "if sex==2 or sex==4:\n",
        "    sex_result = (\"여성\")\n",
        "\n",
        "if a==9 or a ==8:\n",
        "    print(\"연도:19\"+year,\"\\n월:\",month,\"\\n일:\",day,\"\\n\"+sex_result)\n",
        "\n",
        "if sex==3 or sex==4:\n",
        "    print(\"연도:20\"+year,\"\\n월:\",month,\"\\n일:\",day,\"\\n\"+sex_result)"
      ],
      "metadata": {
        "id": "ZGVkXHVca_ix"
      },
      "execution_count": null,
      "outputs": []
    }
  ]
}