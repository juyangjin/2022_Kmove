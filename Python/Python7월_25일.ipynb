{
  "nbformat": 4,
  "nbformat_minor": 0,
  "metadata": {
    "colab": {
      "provenance": [],
      "collapsed_sections": [
        "0Ss5VB-Tu5n4"
      ],
      "toc_visible": true,
      "authorship_tag": "ABX9TyM2JTPDzvmd8KKfWSh4FCTA",
      "include_colab_link": true
    },
    "kernelspec": {
      "name": "python3",
      "display_name": "Python 3"
    },
    "language_info": {
      "name": "python"
    }
  },
  "cells": [
    {
      "cell_type": "markdown",
      "metadata": {
        "id": "view-in-github",
        "colab_type": "text"
      },
      "source": [
        "<a href=\"https://colab.research.google.com/github/juyangjin/2022_Kmove/blob/master/Python/Python7%EC%9B%94_25%EC%9D%BC.ipynb\" target=\"_parent\"><img src=\"https://colab.research.google.com/assets/colab-badge.svg\" alt=\"Open In Colab\"/></a>"
      ]
    },
    {
      "cell_type": "markdown",
      "source": [
        "# 7월 25일"
      ],
      "metadata": {
        "id": "0Ss5VB-Tu5n4"
      }
    },
    {
      "cell_type": "code",
      "source": [
        "a='A'\n",
        "print(a.isupper()) #대문자인가?\n",
        "print(a.lower()) #소문자출력\n",
        "print(a.isalpha()) #알파벳인가?"
      ],
      "metadata": {
        "id": "i7GJ9bIc4-Yj",
        "colab": {
          "base_uri": "https://localhost:8080/"
        },
        "outputId": "0c2c33df-a6f9-468e-9d7a-0144bdfd8381"
      },
      "execution_count": null,
      "outputs": [
        {
          "output_type": "stream",
          "name": "stdout",
          "text": [
            "True\n",
            "a\n",
            "True\n"
          ]
        }
      ]
    },
    {
      "cell_type": "code",
      "source": [
        "result = input(\"값을 입력하시오\\n\")\n",
        "if result.isupper():  #대문자인가? \n",
        "    print(result.lower()) #소문자출력\n",
        "elif result.islower(): #소문자인가?\n",
        "    print(result.upper()) #대문자출력\n",
        "else:\n",
        "    print(result) #그 외 출력"
      ],
      "metadata": {
        "colab": {
          "base_uri": "https://localhost:8080/"
        },
        "outputId": "7d1279c1-0b97-40e1-976a-23eca9933a2a",
        "id": "hbpnRjxCdAdd"
      },
      "execution_count": null,
      "outputs": [
        {
          "output_type": "stream",
          "name": "stdout",
          "text": [
            "값을 입력하시오\n",
            "ㅇ\n",
            "ㅇ\n"
          ]
        }
      ]
    }
  ]
}