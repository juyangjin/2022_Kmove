{
  "nbformat": 4,
  "nbformat_minor": 0,
  "metadata": {
    "colab": {
      "provenance": [],
      "collapsed_sections": [
        "Dz2mWkiZazvJ",
        "_S3V9w86ycw1",
        "0Ss5VB-Tu5n4",
        "E6PCxl9-D3VT"
      ],
      "toc_visible": true,
      "authorship_tag": "ABX9TyNWk2Hf2qFDL46OvWIAt6RV",
      "include_colab_link": true
    },
    "kernelspec": {
      "name": "python3",
      "display_name": "Python 3"
    },
    "language_info": {
      "name": "python"
    }
  },
  "cells": [
    {
      "cell_type": "markdown",
      "metadata": {
        "id": "view-in-github",
        "colab_type": "text"
      },
      "source": [
        "<a href=\"https://colab.research.google.com/github/juyangjin/Python/blob/main/Python.ipynb\" target=\"_parent\"><img src=\"https://colab.research.google.com/assets/colab-badge.svg\" alt=\"Open In Colab\"/></a>"
      ]
    },
    {
      "cell_type": "markdown",
      "source": [],
      "metadata": {
        "id": "acrNd9H6C52w"
      }
    },
    {
      "cell_type": "code",
      "source": [
        "from google.colab import drive\n",
        "drive.mount('/content/drive')"
      ],
      "metadata": {
        "id": "Bakx8TkxG_4I"
      },
      "execution_count": null,
      "outputs": []
    },
    {
      "cell_type": "markdown",
      "source": [
        "소스코드 1번"
      ],
      "metadata": {
        "id": "81MhCUzDbiGw"
      }
    },
    {
      "cell_type": "code",
      "source": [
        "number = input(\"학번을 입력하세요->\")\n",
        "name = input(\"이름을 입력하세요->\")\n",
        "\n",
        "print(\"학번:\" + number + \"\\n이름:\" + name)"
      ],
      "metadata": {
        "id": "Ps9JI6eAa36T"
      },
      "execution_count": null,
      "outputs": []
    },
    {
      "cell_type": "markdown",
      "source": [
        "소스코드 2번"
      ],
      "metadata": {
        "id": "YVipoQKfbkpx"
      }
    },
    {
      "cell_type": "code",
      "source": [
        "#소스코드 2번\n",
        "number = input(\"주민번호를 입력하세요->\")\n",
        "a = int(number[0])\n",
        "year = number[0:2]\n",
        "month = int(number[2:4])\n",
        "day = int(number[4:6])\n",
        "sex = int(number[6])\n",
        "\n",
        "if sex==1 or sex==3:\n",
        "    sex_result = (\"남성\")\n",
        "if sex==2 or sex==4:\n",
        "    sex_result = (\"여성\")\n",
        "\n",
        "if a==9 or a ==8:\n",
        "    print(\"연도:19\"+year,\"\\n월:\",month,\"\\n일:\",day,\"\\n\"+sex_result)\n",
        "\n",
        "if sex==3 or sex==4:\n",
        "    print(\"연도:20\"+year,\"\\n월:\",month,\"\\n일:\",day,\"\\n\"+sex_result)"
      ],
      "metadata": {
        "id": "ZGVkXHVca_ix"
      },
      "execution_count": null,
      "outputs": []
    },
    {
      "cell_type": "markdown",
      "source": [
        "# 7월 13일\n"
      ],
      "metadata": {
        "id": "Dz2mWkiZazvJ"
      }
    },
    {
      "cell_type": "code",
      "execution_count": null,
      "metadata": {
        "id": "SnvZilquWwqm"
      },
      "outputs": [],
      "source": [
        "print('Hello world');"
      ]
    },
    {
      "cell_type": "code",
      "source": [
        "print('A');\n",
        "print(a);"
      ],
      "metadata": {
        "id": "6bbUTBw3ns9W"
      },
      "execution_count": null,
      "outputs": []
    },
    {
      "cell_type": "code",
      "source": [
        "print(\"I'm fine\");"
      ],
      "metadata": {
        "id": "itld2YdgDm6H"
      },
      "execution_count": null,
      "outputs": []
    },
    {
      "cell_type": "code",
      "source": [
        "a = 'korea';\n",
        "print(a[3:0:-1]); #시작:끝:step"
      ],
      "metadata": {
        "colab": {
          "base_uri": "https://localhost:8080/"
        },
        "id": "6mNDVQwALwx4",
        "outputId": "de2fd712-2bd9-4d67-9867-ead794795e3d"
      },
      "execution_count": null,
      "outputs": [
        {
          "output_type": "stream",
          "name": "stdout",
          "text": [
            "ero\n"
          ]
        }
      ]
    },
    {
      "cell_type": "markdown",
      "source": [
        "# 7월 18일"
      ],
      "metadata": {
        "id": "_S3V9w86ycw1"
      }
    },
    {
      "cell_type": "code",
      "source": [
        "kor = input();\n",
        "eng = input();\n",
        "math = input();\n",
        "total = int(kor) + int(eng) + int(math);\n",
        "print(total);"
      ],
      "metadata": {
        "id": "TrqGvR6HyoEL"
      },
      "execution_count": null,
      "outputs": []
    },
    {
      "cell_type": "markdown",
      "source": [
        "# 7월 25일"
      ],
      "metadata": {
        "id": "0Ss5VB-Tu5n4"
      }
    },
    {
      "cell_type": "code",
      "source": [
        "a='A'\n",
        "print(a.isupper()) #대문자인가?\n",
        "print(a.lower()) #소문자출력\n",
        "print(a.isalpha()) #알파벳인가?"
      ],
      "metadata": {
        "id": "i7GJ9bIc4-Yj",
        "colab": {
          "base_uri": "https://localhost:8080/"
        },
        "outputId": "0c2c33df-a6f9-468e-9d7a-0144bdfd8381"
      },
      "execution_count": null,
      "outputs": [
        {
          "output_type": "stream",
          "name": "stdout",
          "text": [
            "True\n",
            "a\n",
            "True\n"
          ]
        }
      ]
    },
    {
      "cell_type": "code",
      "source": [
        "result = input(\"값을 입력하시오\\n\")\n",
        "if result.isupper():  #대문자인가? \n",
        "    print(result.lower()) #소문자출력\n",
        "elif result.islower(): #소문자인가?\n",
        "    print(result.upper()) #대문자출력\n",
        "else:\n",
        "    print(result) #그 외 출력"
      ],
      "metadata": {
        "colab": {
          "base_uri": "https://localhost:8080/"
        },
        "outputId": "7d1279c1-0b97-40e1-976a-23eca9933a2a",
        "id": "hbpnRjxCdAdd"
      },
      "execution_count": null,
      "outputs": [
        {
          "output_type": "stream",
          "name": "stdout",
          "text": [
            "값을 입력하시오\n",
            "ㅇ\n",
            "ㅇ\n"
          ]
        }
      ]
    },
    {
      "cell_type": "markdown",
      "source": [
        "# 7월 26일\n"
      ],
      "metadata": {
        "id": "C2UuOdzq2S5z"
      }
    },
    {
      "cell_type": "markdown",
      "source": [
        "**굵은 텍스트**# 새 섹션"
      ],
      "metadata": {
        "id": "RE9poFu2heAT"
      }
    },
    {
      "cell_type": "code",
      "source": [
        "print(\"if 조건문에 0 넣기\")\n",
        "if 0:\n",
        "    print(\"0은 True로 변환됩니다.\")\n",
        "else:\n",
        "    print(\"0은 False로 변환됩니다.\")\n",
        "print()\n",
        "\n",
        "print(\"if 조건문에 빈 문자열 넣기\")\n",
        "if \"\": \n",
        "    print(\"빈 문자열은 True로 변환됩니다.\")\n",
        "else:\n",
        "    print(\"빈 문자열은 False로 변환됩니다.\")"
      ],
      "metadata": {
        "id": "X2njrpHd2YhC"
      },
      "execution_count": null,
      "outputs": []
    },
    {
      "cell_type": "markdown",
      "source": [
        "if zefo == 0:\n",
        "   \n",
        "else:\n",
        " "
      ],
      "metadata": {
        "id": "lDDEYKl55Emq"
      }
    },
    {
      "cell_type": "code",
      "source": [
        "#입력을 받습니다.\n",
        "number = input(\"정수 입력> \")\n",
        "number = int(number)\n",
        "\n",
        "#조건문 사용\n",
        "if number > 0:\n",
        "    #양수일 때:아직 미구현 상태입니다.\n",
        "    pass\n",
        "else:\n",
        "    #음수일 때:아직 미구현 상태입니다.\n",
        "    pass\n",
        "#미완성일 때는 pass 키워드를 사용하면 된다."
      ],
      "metadata": {
        "id": "-U3v-q9N4u4p"
      },
      "execution_count": null,
      "outputs": []
    },
    {
      "cell_type": "code",
      "source": [
        "x = 10\n",
        "y = 2\n",
        "\n",
        "if x > 4:\n",
        "    if y > 2:\n",
        "        print(x * y)\n",
        "else:\n",
        "    print(x + y)\n",
        "\n",
        "#두번째 if의 조건을 만족하지 않기 때문에 아무것도 출력되지 않는다."
      ],
      "metadata": {
        "id": "3DFdrWIK6XgK"
      },
      "execution_count": null,
      "outputs": []
    },
    {
      "cell_type": "code",
      "source": [
        "if 20 > x > 10:\n",
        "    print(\"조건에 맞습니다.\")"
      ],
      "metadata": {
        "id": "EzTESlQC6wtK"
      },
      "execution_count": null,
      "outputs": []
    },
    {
      "cell_type": "code",
      "source": [
        "array = [273, 32, 103, \"문자열\", True, False]\n",
        "print(array)\n",
        "\n",
        "array[5]"
      ],
      "metadata": {
        "id": "4h7HgAm-7vcJ"
      },
      "execution_count": null,
      "outputs": []
    },
    {
      "cell_type": "code",
      "source": [
        "list_a = [1, 2, 3]\n",
        "list_b = [4, 5, 6]\n",
        "\n",
        "print(\"리스트 기본 연산자\")\n",
        "print(\"list_a + list_b=\",list_a + list_b)\n",
        "print(\"list_a * 3=\",list_a * 3)\n",
        "print()\n",
        "\n",
        "print(\"길이 구하기\")\n",
        "print(\"len(list_a) =\",len(list_a))"
      ],
      "metadata": {
        "id": "fh8mqdOzIKyq"
      },
      "execution_count": null,
      "outputs": []
    },
    {
      "cell_type": "code",
      "source": [
        "list_a = [1,2,3]\n",
        "\n",
        "print(\"리스트 뒤에 요소 추가\")\n",
        "list_a.append(4)\n",
        "list_a.append(5)\n",
        "print(list_a)\n",
        "print()\n",
        "\n",
        "print(\"리스트 중간에 요소 추가하기\")\n",
        "list_a.insert(0,10)\n",
        "list_a.insert(3,11)\n",
        "print(list_a)\n",
        "\n",
        "print(\"extend 함수 사용하기\")\n",
        "list_a.extend([4,5,6])\n",
        "print(list_a)"
      ],
      "metadata": {
        "id": "G325P5FHKaCa"
      },
      "execution_count": null,
      "outputs": []
    },
    {
      "cell_type": "code",
      "source": [
        "list_a=[0,1,2,3,4,5]\n",
        "print(\"list_a:\",list_a)\n",
        "print(\"리스트 요소 제거하기\")\n",
        "\n",
        "del list_a[1]\n",
        "print(\"del list_a[1]:\",list_a)\n",
        "\n",
        "list_a.pop(2)\n",
        "print(\"pop list_a(2):\",list_a)"
      ],
      "metadata": {
        "id": "1f0SghHfMBmy"
      },
      "execution_count": null,
      "outputs": []
    },
    {
      "cell_type": "code",
      "source": [
        "for i in range(5,9):\n",
        "    print(i)\n",
        "\n",
        "team = ['A','B','C']"
      ],
      "metadata": {
        "id": "ycQGeWtLO0fK"
      },
      "execution_count": null,
      "outputs": []
    },
    {
      "cell_type": "code",
      "source": [
        "numbers = [273, 103, 5, 32, 65, 9 ,72, 800, 99]\n",
        "\n",
        "for number in numbers:\n",
        "    if number > 100:\n",
        "        print(\"- 100 이상의 수:\",number)"
      ],
      "metadata": {
        "id": "QLSre7zsUBPa"
      },
      "execution_count": null,
      "outputs": []
    },
    {
      "cell_type": "markdown",
      "source": [
        "퀴즈 1번"
      ],
      "metadata": {
        "id": "loDftL97e57B"
      }
    },
    {
      "cell_type": "code",
      "source": [
        "list_a = []\n",
        "list_b = []\n",
        "print('list_a : ', list_a)\n",
        "print('list_b : ', list_b)\n",
        "\n",
        "for i in range(10):\n",
        "    a = int(input('정수를 입력하세요: '))\n",
        "    list_a.append(a)\n",
        "    if list_a[i] % 3 == 0:\n",
        "        list_b.append(list_a[i])\n",
        "\n",
        "print('list_a : ', list_a)\n",
        "print('list_a에서 3의 배수만 출력 : ', list_b)"
      ],
      "metadata": {
        "colab": {
          "base_uri": "https://localhost:8080/"
        },
        "id": "tuxtI-sWVKha",
        "outputId": "a2d35c0f-fa10-4684-fe2f-5c772dda800c"
      },
      "execution_count": null,
      "outputs": [
        {
          "output_type": "stream",
          "name": "stdout",
          "text": [
            "list_a :  []\n",
            "list_b :  []\n",
            "정수를 입력하세요: 3\n",
            "정수를 입력하세요: 4\n",
            "정수를 입력하세요: 2\n",
            "정수를 입력하세요: 3\n",
            "정수를 입력하세요: 56\n",
            "정수를 입력하세요: 7\n",
            "정수를 입력하세요: 8\n",
            "정수를 입력하세요: 4\n",
            "정수를 입력하세요: 20\n",
            "정수를 입력하세요: 2020\n",
            "list_a :  [3, 4, 2, 3, 56, 7, 8, 4, 20, 2020]\n",
            "list_a에서 3의 배수만 출력 :  [3, 3]\n"
          ]
        }
      ]
    },
    {
      "cell_type": "markdown",
      "source": [
        "퀴즈 2번"
      ],
      "metadata": {
        "id": "3fQZOQSVe9Nh"
      }
    },
    {
      "cell_type": "code",
      "source": [
        "engs = [\"student\",\"love\",\"java\",\"happy\",\"future\"]\n",
        "kors = [\"학생\",\"사랑\",\"자바\",\"행복한\",\"미래\"]\n",
        "print(\"영단어를 입력하세요\")\n",
        "\n",
        "c=0\n",
        "sum = input()\n",
        "for i in engs:\n",
        "    if i == sum:\n",
        "        print(kors[c])\n",
        "        break\n",
        "    c+=1\n",
        "print(\"프로그램을 종료합니다.\")"
      ],
      "metadata": {
        "colab": {
          "base_uri": "https://localhost:8080/"
        },
        "id": "Vn6UaqMkVxdZ",
        "outputId": "cd1a14a8-e79e-4617-86be-765ac414ef03"
      },
      "execution_count": null,
      "outputs": [
        {
          "output_type": "stream",
          "name": "stdout",
          "text": [
            "영단어를 입력하세요\n",
            "love\n",
            "사랑\n",
            "프로그램을 종료합니다.\n"
          ]
        }
      ]
    },
    {
      "cell_type": "markdown",
      "source": [
        "퀴즈 3번"
      ],
      "metadata": {
        "id": "ZMMfkkfLe-cJ"
      }
    },
    {
      "cell_type": "code",
      "source": [
        "sum = 0\n",
        "for i in range(10):\n",
        "    sum = sum + i*i\n",
        "    print(sum)"
      ],
      "metadata": {
        "colab": {
          "base_uri": "https://localhost:8080/"
        },
        "id": "bAyagwzfZjLh",
        "outputId": "ba050c4a-aa45-48a5-86ab-d42dde989a8e"
      },
      "execution_count": null,
      "outputs": [
        {
          "output_type": "stream",
          "name": "stdout",
          "text": [
            "0\n",
            "1\n",
            "5\n",
            "14\n",
            "30\n",
            "55\n",
            "91\n",
            "140\n",
            "204\n",
            "285\n"
          ]
        }
      ]
    },
    {
      "cell_type": "markdown",
      "source": [
        "# 9월 05일"
      ],
      "metadata": {
        "id": "E6PCxl9-D3VT"
      }
    },
    {
      "cell_type": "code",
      "source": [
        "Last login: Mon Sep  5 18:17:03 on console\n",
        "a502-09@502-09ui-iMac ~ % python3\n",
        "2022-09-05 18:19:50.353 xcodebuild[617:6351] Requested but did not find extension point with identifier Xcode.IDEKit.ExtensionSentinelHostApplications for extension Xcode.DebuggerFoundation.AppExtensionHosts.watchOS of plug-in com.apple.dt.IDEWatchSupportCore\n",
        "2022-09-05 18:19:50.353 xcodebuild[617:6351] Requested but did not find extension point with identifier Xcode.IDEKit.ExtensionPointIdentifierToBundleIdentifier for extension Xcode.DebuggerFoundation.AppExtensionToBundleIdentifierMap.watchOS of plug-in com.apple.dt.IDEWatchSupportCore\n",
        "Python 3.8.9 (default, May 17 2022, 12:55:41) \n",
        "[Clang 13.1.6 (clang-1316.0.21.2.5)] on darwin\n",
        "Type \"help\", \"copyright\", \"credits\" or \"license\" for more information.\n",
        ">>> array\n",
        "Traceback (most recent call last):\n",
        "  File \"<stdin>\", line 1, in <module>\n",
        "NameError: name 'array' is not defined\n",
        ">>> \n",
        ">>> array=[273,32,\"list\",Trun,False]\n",
        "Traceback (most recent call last):\n",
        "  File \"<stdin>\", line 1, in <module>\n",
        "NameError: name 'Trun' is not defined\n",
        ">>> array=[273,32,\"list\",Trun,False]\n",
        "Traceback (most recent call last):\n",
        "  File \"<stdin>\", line 1, in <module>\n",
        "NameError: name 'Trun' is not defined\n",
        ">>> array\n",
        "Traceback (most recent call last):\n",
        "  File \"<stdin>\", line 1, in <module>\n",
        "NameError: name 'array' is not defined\n",
        ">>> <stdin>\n",
        "  File \"<stdin>\", line 1\n",
        "    <stdin>\n",
        "    ^\n",
        "SyntaxError: invalid syntax\n",
        ">>> claer\n",
        "Traceback (most recent call last):\n",
        "  File \"<stdin>\", line 1, in <module>\n",
        "NameError: name 'claer' is not defined\n",
        ">>> clear\n",
        "Traceback (most recent call last):\n",
        "  File \"<stdin>\", line 1, in <module>\n",
        "NameError: name 'clear' is not defined\n",
        ">>> python3\n",
        "Traceback (most recent call last):\n",
        "  File \"<stdin>\", line 1, in <module>\n",
        "NameError: name 'python3' is not defined\n",
        ">>> array=[273,32,\"list\",Trun,False]:\n",
        "  File \"<stdin>\", line 1\n",
        "    array=[273,32,\"list\",Trun,False]:\n",
        "                                    ^\n",
        "SyntaxError: invalid syntax\n",
        ">>> array=[273,32,\"list\",Trun,False]\n",
        "Traceback (most recent call last):\n",
        "  File \"<stdin>\", line 1, in <module>\n",
        "NameError: name 'Trun' is not defined\n",
        ">>> array=[273,32,\"list\",True,False]\n",
        ">>> array\n",
        "[273, 32, 'list', True, False]\n",
        ">>> print(array)\n",
        "[273, 32, 'list', True, False]\n",
        ">>> print(1)\n",
        "1\n",
        ">>> array[1]\n",
        "32\n",
        ">>> array[2]\n",
        "'list'\n",
        ">>> array[3]\n",
        "True\n",
        ">>> array[5]\n",
        "Traceback (most recent call last):\n",
        "  File \"<stdin>\", line 1, in <module>\n",
        "IndexError: list index out of range\n",
        ">>> array[1]=100\n",
        ">>> array\n",
        "[273, 100, 'list', True, False]\n",
        ">>> array[-1]\n",
        "False\n",
        ">>> array[-3]\n",
        "'list'\n",
        ">>> array[-5]\n",
        "273\n",
        ">>> array[--s]\n",
        "Traceback (most recent call last):\n",
        "  File \"<stdin>\", line 1, in <module>\n",
        "NameError: name 's' is not defined\n",
        ">>> array[**s]\n",
        "  File \"<stdin>\", line 1\n",
        "    array[**s]\n",
        "          ^\n",
        "SyntaxError: invalid syntax\n",
        ">>> array[2]\n",
        "'list'\n",
        ">>> **S\n",
        "  File \"<stdin>\", line 1\n",
        "    **S\n",
        "    ^\n",
        "SyntaxError: invalid syntax\n",
        ">>> array[2][2]\n",
        "'s'\n",
        ">>> array[2][2,3]\n",
        "Traceback (most recent call last):\n",
        "  File \"<stdin>\", line 1, in <module>\n",
        "TypeError: string indices must be integers\n",
        ">>> array[2][2-3]\n",
        "'t'\n",
        ">>> array[2][2-4]\n",
        "'s'\n",
        ">>> array[2][2.4]\n",
        "Traceback (most recent call last):\n",
        "  File \"<stdin>\", line 1, in <module>\n",
        "TypeError: string indices must be integers\n",
        ">>> array[2][2:4]\n",
        "'st'\n",
        ">>> sist_a=[1,2,3]\n",
        ">>> list_a=[1,2,3]\n",
        ">>> list_b=[4,5,6]\n",
        ">>> list_a\n",
        "[1, 2, 3]\n",
        ">>> list_b\n",
        "[4, 5, 6]\n",
        ">>> print(list_a + list_b)\n",
        "[1, 2, 3, 4, 5, 6]\n",
        ">>> list_c=list_a + list_b\n",
        ">>> list_c\n",
        "[1, 2, 3, 4, 5, 6]\n",
        ">>> print(list_a*2)\n",
        "[1, 2, 3, 1, 2, 3]\n",
        ">>> list_a\n",
        "[1, 2, 3]\n",
        ">>> list_a.append(5)\n",
        ">>> list_a\n",
        "[1, 2, 3, 5]\n",
        ">>> list_a.insert(3,4)\n",
        ">>> list_a\n",
        "[1, 2, 3, 4, 5]\n",
        ">>> list_a.extend([6,7,8])\n",
        ">>> list_a\n",
        "[1, 2, 3, 4, 5, 6, 7, 8]\n",
        ">>> del list_a[4]\n",
        ">>> list_a\n",
        "[1, 2, 3, 4, 6, 7, 8]\n",
        ">>> del list_a[4:6]\n",
        ">>> list_a\n",
        "[1, 2, 3, 4, 8]\n",
        ">>> list_a.pop()\n",
        "8\n",
        ">>> list_a\n",
        "[1, 2, 3, 4]\n",
        ">>> list_a.pop(0)\n",
        "1\n",
        ">>> list_a\n",
        "[2, 3, 4]\n",
        ">>> list_a.remove(4)\n",
        ">>> list_a\n",
        "[2, 3]\n",
        ">>> list_a.clear()\n",
        ">>> list_a\n",
        "[]\n",
        ">>> list_b\n",
        "[4, 5, 6]\n",
        ">>> 4 in list_b\n",
        "True\n",
        ">>> 7 in list_b\n",
        "False\n",
        ">>> 7 not in list_b\n",
        "True\n",
        ">>> t1=range(5)\n",
        ">>> t1\n",
        "range(0, 5)\n",
        ">>> list(t1)\n",
        "[0, 1, 2, 3, 4]\n",
        ">>> \n",
        ">>> for i in range(10):\n",
        "...     print(i)\n",
        "... \n",
        "0\n",
        "1\n",
        "2\n",
        "3\n",
        "4\n",
        "5\n",
        "6\n",
        "7\n",
        "8\n",
        "9\n",
        ">>> 4\n",
        "4\n",
        ">>> 5\n",
        "5\n",
        ">>> 6\n",
        "6\n",
        ">>> list_b\n",
        "[4, 5, 6]\n",
        ">>> for i in list_b:\n",
        "...     print(i)\n",
        "... \n",
        "4\n",
        "5\n",
        "6\n",
        ">>> dict_a = { \"name\" : \"hongGilDong\",\"hakbun\":20221234}\n",
        ">>> dict_a\n",
        "{'name': 'hongGilDong', 'hakbun': 20221234}\n",
        ">>> dict_a(1)\n",
        "Traceback (most recent call last):\n",
        "  File \"<stdin>\", line 1, in <module>\n",
        "TypeError: 'dict' object is not callable\n",
        ">>> dict_a(name)\n",
        "Traceback (most recent call last):\n",
        "  File \"<stdin>\", line 1, in <module>\n",
        "NameError: name 'name' is not defined\n",
        ">>> dict_a('name')\n",
        "Traceback (most recent call last):\n",
        "  File \"<stdin>\", line 1, in <module>\n",
        "TypeError: 'dict' object is not callable\n",
        ">>> dict_a['name']\n",
        "'hongGilDong'\n",
        ">>> dict_a['hakbun']\n",
        "20221234\n",
        ">>> dict_b = { \"name\":\"Hong\",\"No\":1234,\"school\":[sinlim','yeongdeungpo']}\n",
        "  File \"<stdin>\", line 1\n",
        "    dict_b = { \"name\":\"Hong\",\"No\":1234,\"school\":[sinlim','yeongdeungpo']}\n",
        "                                                       ^\n",
        "SyntaxError: invalid syntax\n",
        ">>> dict_b = { \"name\":\"Hong\",\"No\":1234,\"school\":['sinlim','yeongdeungpo']}\n",
        ">>> dict_b\n",
        "{'name': 'Hong', 'No': 1234, 'school': ['sinlim', 'yeongdeungpo']}\n",
        ">>> dict_b[school][1]\n",
        "Traceback (most recent call last):\n",
        "  File \"<stdin>\", line 1, in <module>\n",
        "NameError: name 'school' is not defined\n",
        ">>> dict_b[school]\n",
        "Traceback (most recent call last):\n",
        "  File \"<stdin>\", line 1, in <module>\n",
        "NameError: name 'school' is not defined\n",
        ">>> dict_b['school'][1]\n",
        "'yeongdeungpo'\n",
        ">>> dict_b['school']\n",
        "['sinlim', 'yeongdeungpo']\n",
        ">>> dict_b['school'].append(seoul)\n",
        "Traceback (most recent call last):\n",
        "  File \"<stdin>\", line 1, in <module>\n",
        "NameError: name 'seoul' is not defined\n",
        ">>> dict_b['school'].append('seoul')\n",
        ">>> dict_b['school']\n",
        "['sinlim', 'yeongdeungpo', 'seoul']\n",
        ">>> dict_b\n",
        "{'name': 'Hong', 'No': 1234, 'school': ['sinlim', 'yeongdeungpo', 'seoul']}\n",
        ">>> del dict_b['No']\n",
        ">>> dict_b\n",
        "{'name': 'Hong', 'school': ['sinlim', 'yeongdeungpo', 'seoul']}\n",
        ">>> dict_b = {} \n",
        ">>> dict_b\n",
        "{}\n",
        ">>> list_b\n",
        "[4, 5, 6]\n",
        ">>> list_b = []\n",
        ">>> list_b\n",
        "[]\n",
        ">>> dict_b['name']='hong'\n",
        ">>> dict_b\n",
        "{'name': 'hong'}\n",
        ">>> dict_b['no']=1234\n",
        ">>> dict_b\n",
        "{'name': 'hong', 'no': 1234}\n",
        ">>> key = input(\"Input key\")\n",
        "Input keyname\n",
        ">>> key\n",
        "'name'\n",
        ">>> dict_b[key]\n",
        "'hong'\n",
        ">>>  \n",
        ">>> \n",
        ">>> \n",
        ">>> type(\"abc\") is str\n",
        "True\n",
        ">>> type([]) is str\n",
        "False\n",
        ">>> type([]) is list\n",
        "True\n",
        ">>> type({}) is list\n",
        "False\n",
        ">>> type({}) is dict\n",
        "True\n",
        ">>> list(range(5))\n",
        "[0, 1, 2, 3, 4]\n",
        ">>> list(range(0,10,2))\n",
        "[0, 2, 4, 6, 8]\n",
        ">>> list(range(0,10,3))\n",
        "[0, 3, 6, 9]\n",
        ">>> list(range(1,10,3))\n",
        "[1, 4, 7]\n",
        ">>> \n",
        ">>> n=10n\n",
        "  File \"<stdin>\", line 1\n",
        "    n=10n\n",
        "        ^\n",
        "SyntaxError: invalid syntax\n",
        ">>> n=10\n",
        ">>> n\n",
        "10\n",
        ">>> b=range(0,n/2)\n",
        "Traceback (most recent call last):\n",
        "  File \"<stdin>\", line 1, in <module>\n",
        "TypeError: 'float' object cannot be interpreted as an integer\n",
        ">>> b=range(0,int(n/2))\n",
        ">>> b\n",
        "range(0, 5)\n",
        ">>> b=range(0,n //2)\n",
        ">>> b\n",
        "range(0, 5)\n",
        ">>> i = 0\n",
        ">>> while i<10:\n",
        "... \n",
        "  File \"<stdin>\", line 2\n",
        "    \n",
        "    ^\n",
        "IndentationError: expected an indented block\n",
        ">>> while i<10:\n",
        "... \n",
        "  File \"<stdin>\", line 2\n",
        "    \n",
        "    ^\n",
        "IndentationError: expected an indented block\n",
        ">>> key_list=[\"name\",\"hp\",\"mp\",\"level\"]\n",
        ">>> value_list=[\"기사\",200,30,5]\n",
        ">>> character={}\n",
        ">>> character=[key_list:value_list]\n",
        "  File \"<stdin>\", line 1\n",
        "    character=[key_list:value_list]\n",
        "                       ^\n",
        "SyntaxError: invalid syntax\n",
        ">>> character={key_list:value_list}\n",
        "Traceback (most recent call last):\n",
        "  File \"<stdin>\", line 1, in <module>\n",
        "TypeError: unhashable type: 'list'\n",
        ">>> character={key_list[]:value_list[]}\n",
        "  File \"<stdin>\", line 1\n",
        "    character={key_list[]:value_list[]}\n",
        "                        ^\n",
        "SyntaxError: invalid syntax\n",
        ">>> character=key_list:value_list\n",
        "  File \"<stdin>\", line 1\n",
        "    character=key_list:value_list\n",
        "                      ^\n",
        "SyntaxError: invalid syntax\n",
        ">>> character=key_list[]:value_list[]\n",
        "  File \"<stdin>\", line 1\n",
        "    character=key_list[]:value_list[]\n",
        "                       ^\n",
        "SyntaxError: invalid syntax\n",
        ">>> character=key_list[0:4]:value_list[0:4]\n",
        "  File \"<stdin>\", line 1\n",
        "    character=key_list[0:4]:value_list[0:4]\n",
        "                           ^\n",
        "SyntaxError: invalid syntax\n",
        ">>> character={key_list[0:4]:value_list[0:4]}\n",
        "Traceback (most recent call last):\n",
        "  File \"<stdin>\", line 1, in <module>\n",
        "TypeError: unhashable type: 'list'\n",
        ">>> for i in character:\n",
        "...     print(key_list:value_list)\n",
        "  File \"<stdin>\", line 2\n",
        "    print(key_list:value_list)\n",
        "                  ^\n",
        "SyntaxError: invalid syntax\n",
        ">>>     print(key_list[]:value_list[])\n",
        "  File \"<stdin>\", line 1\n",
        "    print(key_list[]:value_list[])\n",
        "    ^\n",
        "IndentationError: unexpected indent\n",
        ">>>     print(key_list{}:value_list{})\n",
        "  File \"<stdin>\", line 1\n",
        "    print(key_list{}:value_list{})\n",
        "    ^\n",
        "IndentationError: unexpected indent\n",
        ">>> character={key_list:value_list}\n",
        "Traceback (most recent call last):\n",
        "  File \"<stdin>\", line 1, in <module>\n",
        "TypeError: unhashable type: 'list'\n",
        ">>> for i in key_list:\n",
        "...     print(i)\n",
        "... \n",
        "name\n",
        "hp\n",
        "mp\n",
        "level\n",
        ">>> for i in key_list,value_list:\n",
        "...     print(i)\n",
        "... \n",
        "['name', 'hp', 'mp', 'level']\n",
        "['기사', 200, 30, 5]\n",
        ">>>     print(i:i)\n",
        "  File \"<stdin>\", line 1\n",
        "    print(i:i)\n",
        "    ^\n",
        "IndentationError: unexpected indent\n",
        ">>> for i in key_list,value_list:\n",
        "...     print(i:i)\n",
        "  File \"<stdin>\", line 2\n",
        "    print(i:i)\n",
        "           ^\n",
        "SyntaxError: invalid syntax\n",
        ">>> for i in key_list,value_list:\n",
        "...     print(i)\n",
        "... \n",
        "['name', 'hp', 'mp', 'level']\n",
        "['기사', 200, 30, 5]\n",
        ">>> for i in key_list:value_list:\n",
        "  File \"<stdin>\", line 1\n",
        "    for i in key_list:value_list:\n",
        "                                ^\n",
        "SyntaxError: invalid syntax\n",
        ">>> for i in key_list,value_list:\n",
        "...     print([i:i])\n",
        "  File \"<stdin>\", line 2\n",
        "    print([i:i])\n",
        "            ^\n",
        "SyntaxError: invalid syntax\n",
        ">>> for i in key_list,value_list:\n",
        "...     print(1,1)\n",
        "... \n",
        "1 1\n",
        "1 1\n",
        ">>> for i in key_list,value_list:\n",
        "...     print[1:1]\n",
        "... \n",
        "Traceback (most recent call last):\n",
        "  File \"<stdin>\", line 2, in <module>\n",
        "TypeError: 'builtin_function_or_method' object is not subscriptable\n",
        ">>>     print{[1:1]}\n",
        "  File \"<stdin>\", line 1\n",
        "    print{[1:1]}\n",
        "    ^\n",
        "IndentationError: unexpected indent\n",
        ">>>     print([1:1])\n",
        "  File \"<stdin>\", line 1\n",
        "    print([1:1])\n",
        "    ^\n",
        "IndentationError: unexpected indent\n",
        ">>> for i in [key_list:value_list]:\n",
        "  File \"<stdin>\", line 1\n",
        "    for i in [key_list:value_list]:\n",
        "                      ^\n",
        "SyntaxError: invalid syntax\n",
        ">>> for i in [key_list]:[value_list]:\n",
        "  File \"<stdin>\", line 1\n",
        "    for i in [key_list]:[value_list]:\n",
        "                                    ^\n",
        "SyntaxError: invalid syntax\n",
        ">>> for i in {key_list:value_list}:\n",
        "... \n",
        "  File \"<stdin>\", line 2\n",
        "    \n",
        "    ^\n",
        "IndentationError: expected an indented block\n",
        ">>> for i in {key_list:value_list}:\n",
        "...     print(i)\n",
        "... \n",
        "Traceback (most recent call last):\n",
        "  File \"<stdin>\", line 1, in <module>\n",
        "TypeError: unhashable type: 'list'\n",
        ">>> for i in {key_list:value_list}:\n",
        "... \n",
        "  File \"<stdin>\", line 2\n",
        "    \n",
        "    ^\n",
        "IndentationError: expected an indented block\n",
        ">>> \n",
        ">>> for i in key_list:\n",
        "...     \n",
        "  File \"<stdin>\", line 2\n",
        "    \n",
        "    ^\n",
        "IndentationError: expected an indented block\n",
        ">>> \n",
        ">>> c=0\n",
        ">>> sum=input()\n",
        "\n",
        ">>> for in i key_list:\n",
        "  File \"<stdin>\", line 1\n",
        "    for in i key_list:\n",
        "        ^\n",
        "SyntaxError: invalid syntax\n",
        ">>> for i in key_list:\n",
        "...     if i == sum:\n",
        "...             print(key_list[c])\n",
        "...             break\n",
        "...     c+=1\n",
        "... \n",
        ">>> \n",
        ">>> name\n",
        "Traceback (most recent call last):\n",
        "  File \"<stdin>\", line 1, in <module>\n",
        "NameError: name 'name' is not defined\n",
        ">>> \n",
        ">>> for i in keylist:\n",
        "...     print(i)\n",
        "... \n",
        "Traceback (most recent call last):\n",
        "  File \"<stdin>\", line 1, in <module>\n",
        "NameError: name 'keylist' is not defined\n",
        ">>> for i in key_list:\n",
        "...     print(i)\n",
        "... \n",
        "name\n",
        "hp\n",
        "mp\n",
        "level\n",
        ">>> for i in key_list,value_list:\n",
        "...     print(i)\n",
        "... \n",
        "['name', 'hp', 'mp', 'level']\n",
        "['기사', 200, 30, 5]\n",
        ">>> for i in (key_list,value_list):\n",
        "...     print(i)\n",
        "... \n",
        "['name', 'hp', 'mp', 'level']\n",
        "['기사', 200, 30, 5]\n",
        ">>> for character in key_list,value_list:\n",
        "...     print(character)\n",
        "... \n",
        "['name', 'hp', 'mp', 'level']\n",
        "['기사', 200, 30, 5]\n",
        ">>> for character:i in key_list,value_list:\n",
        "  File \"<stdin>\", line 1\n",
        "    for character:i in key_list,value_list:\n",
        "                 ^\n",
        "SyntaxError: invalid syntax\n",
        ">>> for i in range(len(key_list)):\n",
        "...     character[key_list[i]=value_list[i]\n",
        "  File \"<stdin>\", line 2\n",
        "    character[key_list[i]=value_list[i]\n",
        "                         ^\n",
        "SyntaxError: invalid syntax\n",
        ">>>     character[key_list[i]]=value_list[i]\n",
        "  File \"<stdin>\", line 1\n",
        "    character[key_list[i]]=value_list[i]\n",
        "    ^\n",
        "IndentationError: unexpected indent\n",
        ">>> for i in range(len(key_list)):\n",
        "...     character[key_list[i]=value_list[i]]\n",
        "  File \"<stdin>\", line 2\n",
        "    character[key_list[i]=value_list[i]]\n",
        "                         ^\n",
        "SyntaxError: invalid syntax\n",
        ">>>     character[key_list[i]=value_list[i]]\n",
        "  File \"<stdin>\", line 1\n",
        "    character[key_list[i]=value_list[i]]\n",
        "    ^\n",
        "IndentationError: unexpected indent\n",
        ">>>     character[key_list[i]=value_list[i]]\n",
        "  File \"<stdin>\", line 1\n",
        "    character[key_list[i]=value_list[i]]\n",
        "    ^\n",
        "IndentationError: unexpected indent\n",
        ">>> \n",
        ">>> \n",
        ">>> for i in range(len(key_list)):\n",
        "...     character[key_list[i]]=value_list[i]\n",
        "... \n",
        "Traceback (most recent call last):\n",
        "  File \"<stdin>\", line 2, in <module>\n",
        "TypeError: list indices must be integers or slices, not str\n",
        ">>> Integer Calculator = ['+','-','*','/','%']\n",
        "  File \"<stdin>\", line 1\n",
        "    Integer Calculator = ['+','-','*','/','%']\n",
        "            ^\n",
        "SyntaxError: invalid syntax\n",
        ">>> Integer_Calculator = ['+','-','*','/','%']\n",
        ">>> Integer_Calculator \n",
        "['+', '-', '*', '/', '%']\n",
        ">>> key_list \n",
        "['name', 'hp', 'mp', 'level']\n",
        ">>> value_list\n",
        "['기사', 200, 30, 5]\n",
        ">>> character\n",
        "['기사', 200, 30, 5]\n",
        ">>> character={}\n",
        ">>> character={}\n",
        ">>> character\n",
        "{}\n",
        ">>> for i in range(len(key_list)):\n",
        "...     character[key_list[i]]=value_list[i]\n",
        "... \n",
        ">>> character\n",
        "{'name': '기사', 'hp': 200, 'mp': 30, 'level': 5}\n",
        ">>> Integer_Calculator\n",
        "['+', '-', '*', '/', '%']\n",
        ">>> for i in Integer_Calculator\n",
        "  File \"<stdin>\", line 1\n",
        "    for i in Integer_Calculator\n",
        "                              ^\n",
        "SyntaxError: invalid syntax\n",
        ">>> for i in Integer_Calculator:\n",
        "... \n",
        "  File \"<stdin>\", line 2\n",
        "    \n",
        "    ^\n",
        "IndentationError: expected an indented block\n",
        ">>> for i in Integer_Calculator:\n",
        "...     print(i)\n",
        "... \n",
        "+\n",
        "-\n",
        "*\n",
        "/\n",
        "%\n",
        ">>> for i in Integer_Calculator:\n",
        "...     print(n.i)\n",
        "... \n",
        "Traceback (most recent call last):\n",
        "  File \"<stdin>\", line 2, in <module>\n",
        "AttributeError: 'int' object has no attribute 'i'\n",
        ">>> for i in Integer_Calculator:\n",
        "...     print(cnt.i)\n",
        "... \n",
        "Traceback (most recent call last):\n",
        "  File \"<stdin>\", line 2, in <module>\n",
        "NameError: name 'cnt' is not defined\n",
        ">>> for i in Integer_Calculator:\n",
        "...     print(cnt[i].i)\n",
        "... \n",
        "Traceback (most recent call last):\n",
        "  File \"<stdin>\", line 2, in <module>\n",
        "NameError: name 'cnt' is not defined\n",
        ">>>     print(cnt[i])\n",
        "  File \"<stdin>\", line 1\n",
        "    print(cnt[i])\n",
        "    ^\n",
        "IndentationError: unexpected indent\n",
        ">>>     cnt[i]\n",
        "  File \"<stdin>\", line 1\n",
        "    cnt[i]\n",
        "    ^\n",
        "IndentationError: unexpected indent\n",
        ">>> for i in Integer_Calculator:\n",
        "... cnt[i]\n",
        "  File \"<stdin>\", line 2\n",
        "    cnt[i]\n",
        "    ^\n",
        "IndentationError: expected an indented block\n",
        ">>> for i in Integer_Calculator:\n",
        "...     print(i)\n",
        "... \n",
        "+\n",
        "-\n",
        "*\n",
        "/\n",
        "%\n",
        ">>> for i in Integer_Calculator:\n",
        "...     print(i)\n",
        "... \n",
        "+\n",
        "-\n",
        "*\n",
        "/\n",
        "%\n",
        ">>> print(\"Integer Calculator\" \\n \"------------\"\\n \"1.+\" \\n\"2.-\"\\n\"3.*\"\\n\"4./\"\n",
        "  File \"<stdin>\", line 1\n",
        "    print(\"Integer Calculator\" \\n \"------------\"\\n \"1.+\" \\n\"2.-\"\\n\"3.*\"\\n\"4./\" \n",
        "                                                                              ^\n",
        "SyntaxError: unexpected character after line continuation character\n",
        ">>> print(\"Integer Calculator\" \\n \"------------\"\\n \"1.+\" \\n\"2.-\"\\n\"3.*\"\\n\"4./\"\\n\"5.%\"\\n\"---------\")\n",
        "  File \"<stdin>\", line 1\n",
        "    print(\"Integer Calculator\" \\n \"------------\"\\n \"1.+\" \\n\"2.-\"\\n\"3.*\"\\n\"4./\"\\n\"5.%\"\\n\"---------\")\n",
        "                                                                                                  ^\n",
        "SyntaxError: unexpected character after line continuation character\n",
        ">>> print(\"Integer Calculator\" \\n \"------------\"\\n \"1.+\" \\n\"2.-\"\\n\"3.*\"\\n\"4./\"\\n\"5.%\"\\n\"---------\"):\n",
        "  File \"<stdin>\", line 1\n",
        "    print(\"Integer Calculator\" \\n \"------------\"\\n \"1.+\" \\n\"2.-\"\\n\"3.*\"\\n\"4./\"\\n\"5.%\"\\n\"---------\"):\n",
        "                                                                                                   ^\n",
        "SyntaxError: unexpected character after line continuation character\n",
        ">>> print(\"Integer Calculator\" \\n \"------------\"\\n \"1.+\" \\n\"2.-\"\\n\"3.*\"\\n\"4./\"\\n\"5.%\"\\n\"---------\"):\n",
        "  File \"<stdin>\", line 1\n",
        "    print(\"Integer Calculator\" \\n \"------------\"\\n \"1.+\" \\n\"2.-\"\\n\"3.*\"\\n\"4./\"\\n\"5.%\"\\n\"---------\"):\n",
        "                                                                                                   ^\n",
        "SyntaxError: unexpected character after line continuation character\n",
        ">>> print(\"Integer Calculator\" \\n \"------------\"\\n \"1.+\" \\n\"2.-\"\\n\"3.*\"\\n\"4./\"\\n\"5.%\"\\n\"---------\")\n",
        "  File \"<stdin>\", line 1\n",
        "    print(\"Integer Calculator\" \\n \"------------\"\\n \"1.+\" \\n\"2.-\"\\n\"3.*\"\\n\"4./\"\\n\"5.%\"\\n\"---------\")\n",
        "                                                                                                  ^\n",
        "SyntaxError: unexpected character after line continuation character\n",
        ">>> print(\"Integer Calculator\"\\n\"----\"\\n\"1.+\"\\n\"2.-\"\\n\"3.*\"\\n\"4./\"\\n\"5.%\"\\n\"----\")\n",
        "  File \"<stdin>\", line 1\n",
        "    print(\"Integer Calculator\"\\n\"----\"\\n\"1.+\"\\n\"2.-\"\\n\"3.*\"\\n\"4./\"\\n\"5.%\"\\n\"----\")\n",
        "                                                                                 ^\n",
        "SyntaxError: unexpected character after line continuation character\n",
        ">>> character={}\n",
        ">>> print(\"Integer Calculator\"\\n\"----\"\\n\"1.+\"\\n\"2.-\"\\n\"3.*\"\\n\"4./\"\\n\"5.%\"\\n\"----\")\n",
        "  File \"<stdin>\", line 1\n",
        "    print(\"Integer Calculator\"\\n\"----\"\\n\"1.+\"\\n\"2.-\"\\n\"3.*\"\\n\"4./\"\\n\"5.%\"\\n\"----\")\n",
        "                                                                                 ^\n",
        "SyntaxError: unexpected character after line continuation character\n",
        ">>> clear()\n",
        "Traceback (most recent call last):\n",
        "  File \"<stdin>\", line 1, in <module>\n",
        "NameError: name 'clear' is not defined\n",
        ">>> print(\"Integer Calculator\"\\n\"----\"\\n\"1.+\"\\n\"2.-\"\\n\"3.*\"\\n\"4./\"\\n\"5.%\"\\n\"----\")\n",
        "  File \"<stdin>\", line 1\n",
        "    print(\"Integer Calculator\"\\n\"----\"\\n\"1.+\"\\n\"2.-\"\\n\"3.*\"\\n\"4./\"\\n\"5.%\"\\n\"----\")\n",
        "                                                                                 ^\n",
        "SyntaxError: unexpected character after line continuation character\n",
        ">>> print(\"Integer Calculator\")\n",
        "Integer Calculator\n",
        ">>> print(\"Integer Calculator\"\\n)\n",
        "  File \"<stdin>\", line 1\n",
        "    print(\"Integer Calculator\"\\n)\n",
        "                                ^\n",
        "SyntaxError: unexpected character after line continuation character\n",
        ">>> print(\"Integer Calculator\\n----\\n1.+\\n2.-\\n3.*\\n4./\\n5.%\\n----\")\n",
        "Integer Calculator\n",
        "----\n",
        "1.+\n",
        "2.-\n",
        "3.*\n",
        "4./\n",
        "5.%\n",
        "----\n",
        ">>> \"1\"=+\n",
        "  File \"<stdin>\", line 1\n",
        "    \"1\"=+\n",
        "        ^\n",
        "SyntaxError: invalid syntax\n",
        ">>> 1=\"+\"\n",
        "  File \"<stdin>\", line 1\n",
        "SyntaxError: cannot assign to literal\n",
        ">>> list = [0,+,-,*,/,%]\n",
        "  File \"<stdin>\", line 1\n",
        "    list = [0,+,-,*,/,%]\n",
        "               ^\n",
        "SyntaxError: invalid syntax\n",
        ">>> list = [0,+,-,*,/\",\"%\"]\n",
        "  File \"<stdin>\", line 1\n",
        "    list = [0,+,-,*,/\",\"%\"]\n",
        "               ^\n",
        "SyntaxError: invalid syntax\n",
        ">>> list = [0,\"+\",\"-\",\"*\",\"/\",\"%\"]\n",
        ">>> for i in list:\n",
        "...     print(\"input>\")\n",
        "...     if i == list[1]:\n",
        "...\n",
        "... \n",
        "  File \"<stdin>\", line 5\n",
        "    \n",
        "    ^\n",
        "IndentationError: expected an indented block\n",
        ">>> \n",
        ">>> for i in list:\n",
        "...     sum = int(input('input>'))\n",
        "...     if i == list[1]:\n",
        "... \n",
        "  File \"<stdin>\", line 4\n",
        "    \n",
        "    ^\n",
        "IndentationError: expected an indented block\n",
        ">>> for i in list:\n",
        "...     sum = int(input('input>'))\n",
        "...     if i == list[1]:\n",
        "...             a = int(input)\n",
        "...             b = int(input)\n",
        "...             sum = a + b\n",
        "... \n",
        "input>1 2 3\n",
        "Traceback (most recent call last):\n",
        "  File \"<stdin>\", line 2, in <module>\n",
        "ValueError: invalid literal for int() with base 10: '1 2 3'"
      ],
      "metadata": {
        "id": "fv_K0FllENVo"
      },
      "execution_count": null,
      "outputs": []
    },
    {
      "cell_type": "code",
      "source": [
        "print(\"Integer Calculator\\n1.+\")"
      ],
      "metadata": {
        "colab": {
          "base_uri": "https://localhost:8080/"
        },
        "id": "mhVPWImEa7eV",
        "outputId": "ad1fd303-2612-4f2c-a241-bc092b089425"
      },
      "execution_count": null,
      "outputs": [
        {
          "output_type": "stream",
          "name": "stdout",
          "text": [
            "Integer Calculator\n",
            "1.+\n"
          ]
        }
      ]
    },
    {
      "cell_type": "code",
      "source": [
        "v = int(input('input>'))\n",
        "if v == 1:\n",
        "        a = int(input())\n",
        "        b = int(input())\n",
        "        sum = a + b\n",
        "        print(sum)\n",
        "        "
      ],
      "metadata": {
        "colab": {
          "base_uri": "https://localhost:8080/"
        },
        "id": "d45LgBnIbgIy",
        "outputId": "f55fb497-36d5-4c23-fe76-3d0fed48504f"
      },
      "execution_count": null,
      "outputs": [
        {
          "output_type": "stream",
          "name": "stdout",
          "text": [
            "input>1\n",
            "2\n",
            "3\n",
            "5\n"
          ]
        }
      ]
    },
    {
      "cell_type": "code",
      "source": [
        "."
      ],
      "metadata": {
        "id": "ceF1s9KAfCUz"
      },
      "execution_count": null,
      "outputs": []
    },
    {
      "cell_type": "markdown",
      "source": [
        "# 9월 19일"
      ],
      "metadata": {
        "id": "T5bkYYZ7DjVQ"
      }
    },
    {
      "cell_type": "code",
      "source": [
        "a = range(5)\n",
        "print(a)\n",
        "print(list(a))\n",
        "b = list(a)\n",
        "print(b)\n",
        "\n",
        "print(list(range(0,5)))\n",
        "print(list(range(0,10,2)))\n",
        "\n",
        "n = 10\n",
        "#c = range(0,n/2)\n",
        "c = range(0,n//2)\n",
        "print(c)"
      ],
      "metadata": {
        "colab": {
          "base_uri": "https://localhost:8080/"
        },
        "id": "gYJ0hySBEZ4Y",
        "outputId": "915a0868-a5b9-40fa-8c14-b1999d21ee20"
      },
      "execution_count": null,
      "outputs": [
        {
          "output_type": "stream",
          "name": "stdout",
          "text": [
            "range(0, 5)\n",
            "[0, 1, 2, 3, 4]\n",
            "[0, 1, 2, 3, 4]\n",
            "[0, 1, 2, 3, 4]\n",
            "[0, 2, 4, 6, 8]\n",
            "range(0, 5)\n"
          ]
        }
      ]
    },
    {
      "cell_type": "code",
      "source": [
        "for i in range(5):\n",
        "    print(str(i) + \"=\")\n",
        "    print(i)\n",
        "\n",
        "    print()\n",
        "\n",
        "    for i in list(range(5)):\n",
        "        print(i)"
      ],
      "metadata": {
        "colab": {
          "base_uri": "https://localhost:8080/"
        },
        "id": "3V0Zj-IDGCxp",
        "outputId": "36d5b96e-86c1-4985-d64b-ad19921af32a"
      },
      "execution_count": null,
      "outputs": [
        {
          "output_type": "stream",
          "name": "stdout",
          "text": [
            "0=\n",
            "0\n",
            "\n",
            "0\n",
            "1\n",
            "2\n",
            "3\n",
            "4\n",
            "1=\n",
            "1\n",
            "\n",
            "0\n",
            "1\n",
            "2\n",
            "3\n",
            "4\n",
            "2=\n",
            "2\n",
            "\n",
            "0\n",
            "1\n",
            "2\n",
            "3\n",
            "4\n",
            "3=\n",
            "3\n",
            "\n",
            "0\n",
            "1\n",
            "2\n",
            "3\n",
            "4\n",
            "4=\n",
            "4\n",
            "\n",
            "0\n",
            "1\n",
            "2\n",
            "3\n",
            "4\n"
          ]
        }
      ]
    },
    {
      "cell_type": "code",
      "source": [
        "#구구단\n",
        "for i in range(2,10):\n",
        "    for e in range(1,10):\n",
        "        print(i,\"*\",e,\"=\",i*e)"
      ],
      "metadata": {
        "colab": {
          "base_uri": "https://localhost:8080/"
        },
        "id": "4ceNVnDTGvnH",
        "outputId": "98b57ee2-52f9-40cc-d99d-d48675a4d3fb"
      },
      "execution_count": null,
      "outputs": [
        {
          "output_type": "stream",
          "name": "stdout",
          "text": [
            "2 * 1 = 2\n",
            "2 * 2 = 4\n",
            "2 * 3 = 6\n",
            "2 * 4 = 8\n",
            "2 * 5 = 10\n",
            "2 * 6 = 12\n",
            "2 * 7 = 14\n",
            "2 * 8 = 16\n",
            "2 * 9 = 18\n",
            "3 * 1 = 3\n",
            "3 * 2 = 6\n",
            "3 * 3 = 9\n",
            "3 * 4 = 12\n",
            "3 * 5 = 15\n",
            "3 * 6 = 18\n",
            "3 * 7 = 21\n",
            "3 * 8 = 24\n",
            "3 * 9 = 27\n",
            "4 * 1 = 4\n",
            "4 * 2 = 8\n",
            "4 * 3 = 12\n",
            "4 * 4 = 16\n",
            "4 * 5 = 20\n",
            "4 * 6 = 24\n",
            "4 * 7 = 28\n",
            "4 * 8 = 32\n",
            "4 * 9 = 36\n",
            "5 * 1 = 5\n",
            "5 * 2 = 10\n",
            "5 * 3 = 15\n",
            "5 * 4 = 20\n",
            "5 * 5 = 25\n",
            "5 * 6 = 30\n",
            "5 * 7 = 35\n",
            "5 * 8 = 40\n",
            "5 * 9 = 45\n",
            "6 * 1 = 6\n",
            "6 * 2 = 12\n",
            "6 * 3 = 18\n",
            "6 * 4 = 24\n",
            "6 * 5 = 30\n",
            "6 * 6 = 36\n",
            "6 * 7 = 42\n",
            "6 * 8 = 48\n",
            "6 * 9 = 54\n",
            "7 * 1 = 7\n",
            "7 * 2 = 14\n",
            "7 * 3 = 21\n",
            "7 * 4 = 28\n",
            "7 * 5 = 35\n",
            "7 * 6 = 42\n",
            "7 * 7 = 49\n",
            "7 * 8 = 56\n",
            "7 * 9 = 63\n",
            "8 * 1 = 8\n",
            "8 * 2 = 16\n",
            "8 * 3 = 24\n",
            "8 * 4 = 32\n",
            "8 * 5 = 40\n",
            "8 * 6 = 48\n",
            "8 * 7 = 56\n",
            "8 * 8 = 64\n",
            "8 * 9 = 72\n",
            "9 * 1 = 9\n",
            "9 * 2 = 18\n",
            "9 * 3 = 27\n",
            "9 * 4 = 36\n",
            "9 * 5 = 45\n",
            "9 * 6 = 54\n",
            "9 * 7 = 63\n",
            "9 * 8 = 72\n",
            "9 * 9 = 81\n"
          ]
        }
      ]
    },
    {
      "cell_type": "code",
      "source": [
        "for i in range(4,-1,-1):\n",
        "    print(i)\n",
        "\n",
        "print()\n",
        "\n",
        "for i in reversed(range(5)):\n",
        "    print(i)"
      ],
      "metadata": {
        "colab": {
          "base_uri": "https://localhost:8080/"
        },
        "id": "MFw1D2vrJw1G",
        "outputId": "c1ffc1c6-7464-4c03-9ed8-fbcbf5b9e16f"
      },
      "execution_count": null,
      "outputs": [
        {
          "output_type": "stream",
          "name": "stdout",
          "text": [
            "4\n",
            "3\n",
            "2\n",
            "1\n",
            "0\n",
            "\n",
            "4\n",
            "3\n",
            "2\n",
            "1\n",
            "0\n"
          ]
        }
      ]
    },
    {
      "cell_type": "code",
      "source": [
        "i=0\n",
        "while i<10:\n",
        "    print(i)\n",
        "    i += 1"
      ],
      "metadata": {
        "colab": {
          "base_uri": "https://localhost:8080/"
        },
        "id": "KNgVbEs6LPLF",
        "outputId": "875d5672-e611-4877-a419-f4b1a5a251b2"
      },
      "execution_count": null,
      "outputs": [
        {
          "output_type": "stream",
          "name": "stdout",
          "text": [
            "0\n",
            "1\n",
            "2\n",
            "3\n",
            "4\n",
            "5\n",
            "6\n",
            "7\n",
            "8\n",
            "9\n"
          ]
        }
      ]
    },
    {
      "cell_type": "code",
      "source": [
        "for i in range(10):\n",
        "    print(i)\n"
      ],
      "metadata": {
        "colab": {
          "base_uri": "https://localhost:8080/"
        },
        "id": "yRnmWLaLLpsl",
        "outputId": "4d283adf-5df2-408c-fe74-45b7d688987d"
      },
      "execution_count": null,
      "outputs": [
        {
          "output_type": "stream",
          "name": "stdout",
          "text": [
            "0\n",
            "1\n",
            "2\n",
            "3\n",
            "4\n",
            "5\n",
            "6\n",
            "7\n",
            "8\n",
            "9\n"
          ]
        }
      ]
    },
    {
      "cell_type": "code",
      "source": [
        "#break\n",
        "\n",
        "i=0\n",
        "\n",
        "while True:\n",
        "    print('{} repeat count'.format(i))\n",
        "    i += 1\n",
        "    inputText = input('Do you want to quit(y)')\n",
        "    if inputText in ('y','Y'):\n",
        "        print('Quit repeat')\n",
        "        break"
      ],
      "metadata": {
        "colab": {
          "base_uri": "https://localhost:8080/"
        },
        "id": "qVOz7qhqMEle",
        "outputId": "474d5266-da4e-4269-c046-cc459b46e385"
      },
      "execution_count": null,
      "outputs": [
        {
          "output_type": "stream",
          "name": "stdout",
          "text": [
            "0 repeat count\n",
            "Do you want to quit(y)y\n",
            "Quit repeat\n"
          ]
        }
      ]
    },
    {
      "cell_type": "code",
      "source": [
        "#continue\n",
        "\n",
        "nums = [1,2,3,4,5]\n",
        "\n",
        "for num in nums:\n",
        "    if num <3:\n",
        "        continue #조건이 맞을 경우, 다시 for 문으로 돌아가게 된다. 따라서 num이 3 보다 작을 때는 출력이 되질 않는다.\n",
        "    print(num)"
      ],
      "metadata": {
        "colab": {
          "base_uri": "https://localhost:8080/"
        },
        "id": "58tz7vjtRiXQ",
        "outputId": "8dc7ec98-c086-4649-93e4-425e6a763e5a"
      },
      "execution_count": null,
      "outputs": [
        {
          "output_type": "stream",
          "name": "stdout",
          "text": [
            "3\n",
            "4\n",
            "5\n"
          ]
        }
      ]
    },
    {
      "cell_type": "code",
      "source": [
        "#Quiz 2\n",
        "key_list = ['name','hp','mp','level']\n",
        "value_list = ['Hong', 200, 30, 5]\n",
        "character = {}\n",
        "\n",
        "for i in range(len(key_list)):\n",
        "    character[key_list[i]] = value_list[i]\n",
        "\n",
        "print(character)"
      ],
      "metadata": {
        "colab": {
          "base_uri": "https://localhost:8080/"
        },
        "id": "k4d9yta_R-l4",
        "outputId": "c005747c-3d5e-4873-fd00-bff198bde2e7"
      },
      "execution_count": null,
      "outputs": [
        {
          "output_type": "stream",
          "name": "stdout",
          "text": [
            "{'name': 'Hong', 'hp': 200, 'mp': 30, 'level': 5}\n"
          ]
        }
      ]
    },
    {
      "cell_type": "code",
      "source": [
        "array = [i for i in range(0, 20, 2)]\n",
        "\n",
        "#for i in range(0, 20, 2):\n",
        " #   array.append(i)\n",
        "\n",
        "print(array)"
      ],
      "metadata": {
        "colab": {
          "base_uri": "https://localhost:8080/"
        },
        "id": "c0Pxu30lU3Rg",
        "outputId": "37698499-2a0e-4d86-dbcb-0bc75ad4aca6"
      },
      "execution_count": null,
      "outputs": [
        {
          "output_type": "stream",
          "name": "stdout",
          "text": [
            "[0, 2, 4, 6, 8, 10, 12, 14, 16, 18]\n"
          ]
        }
      ]
    },
    {
      "cell_type": "code",
      "source": [
        "#list with for loop\n",
        "array = [i*i for i in range(0, 20, 3)]\n",
        "\n",
        "print(array)"
      ],
      "metadata": {
        "colab": {
          "base_uri": "https://localhost:8080/"
        },
        "id": "lunU-SY1VVk3",
        "outputId": "5ae4010e-5d3a-4118-bce3-387ad9132147"
      },
      "execution_count": null,
      "outputs": [
        {
          "output_type": "stream",
          "name": "stdout",
          "text": [
            "[0, 9, 36, 81, 144, 225, 324]\n"
          ]
        }
      ]
    },
    {
      "cell_type": "code",
      "source": [
        "#가위바위보 게임\n",
        "# -> 두번 연속 이겼을 때를 생각해서 \n",
        "import time\n",
        "\n",
        "seed = time.time()\n",
        "#print(seed)\n",
        "#print(int(seed))\n",
        "#print(int(seed)%3)\n",
        "j = 0;\n",
        "while j < 3:\n",
        "    j += 1;\n",
        "    user_hand = input('무엇을 내시겠어요? ')\n",
        "    \n",
        "    if user_hand in ('가위','kawi'):\n",
        "        seed =int(time.time())\n",
        "        com_hand = seed % 3\n",
        "        \n",
        "        if com_hand == 0:\n",
        "            print(\"(가위) 무승부\") \n",
        "        elif com_hand == 1:\n",
        "             print(\"(바위) 사용자가 패배했습니다.\")\n",
        "             j = 4;\n",
        "             print(\"패배로 인한 종료\")\n",
        "        else:\n",
        "            print(\"(보) 사용자가 승리했습니다.\")\n",
        "        \n",
        "    elif user_hand in ('바위','bawi'):\n",
        "        seed = int(time.time())\n",
        "        com_hand = seed % 3\n",
        "    \n",
        "        if com_hand == 0:\n",
        "            print(\"(가위) 사용자가 승리했습니다.\")\n",
        "        elif com_hand == 1:\n",
        "            print(\"(바위) 무승부\")\n",
        "        else:\n",
        "            print(\"(보) 사용자가 패배했습니다.\")\n",
        "            j = 4;\n",
        "            print(\"패배로 인한 종료\")\n",
        "\n",
        "    elif user_hand in ('보','bo'):\n",
        "        seed = int(time.time())\n",
        "        om_hand = seed % 3\n",
        "        \n",
        "        if com_hand == 0:\n",
        "            print(\"(가위) 사용자가 패배했습니다.\")\n",
        "            j = 4;\n",
        "            print(\"패배로 인한 종료\")\n",
        "        elif com_hand == 1:\n",
        "            print(\"(바위) 사용자가 승리했습니다.\")\n",
        "        else:\n",
        "            print(\"(보) 무승부\")\n"
      ],
      "metadata": {
        "colab": {
          "base_uri": "https://localhost:8080/"
        },
        "id": "fJzvlRHEVzkf",
        "outputId": "0291ead1-8732-4c1f-bfbe-d3103fd53d05"
      },
      "execution_count": null,
      "outputs": [
        {
          "output_type": "stream",
          "name": "stdout",
          "text": [
            "무엇을 내시겠어요? 가위\n",
            "(보) 사용자가 승리했습니다.\n",
            "무엇을 내시겠어요? 바위\n",
            "(바위) 무승부\n",
            "무엇을 내시겠어요? 보\n",
            "(바위) 사용자가 승리했습니다.\n"
          ]
        }
      ]
    },
    {
      "cell_type": "code",
      "source": [
        "# 1번 문제 - 동준이 풀이\n",
        "import time\n",
        "\n",
        "count = 0\n",
        "uw=0\n",
        "cw=0\n",
        "while count < 3:\n",
        "    user = input('가위 바위 보 중 하나를 입력하시오 : ')\n",
        "\n",
        "    if user != '가위' and user != '바위' and user != '보':\n",
        "        print('올바른 값을 입력해주세요!')\n",
        "        continue\n",
        "    if user == '끝':\n",
        "        print('게임을 끝냅니다.')\n",
        "        break\n",
        "\n",
        "    if user == '가위':\n",
        "        user = 0\n",
        "    elif user == '바위':\n",
        "        user = 1\n",
        "    else:\n",
        "        user = 2\n",
        "\n",
        "    com = int(time.time()) % 3\n",
        "    if com == 0:\n",
        "        print(\"컴퓨터 = 가위\")\n",
        "    elif com == 1:\n",
        "        print(\"컴퓨터 = 바위\")\n",
        "    else:\n",
        "        print(\"컴퓨터 = 보\")\n",
        "\n",
        "    if user == com:\n",
        "        print(\"비겼습니다.\")\n",
        "    elif user - 1 == com or user + 2 == com:\n",
        "        print(\"이겼습니다.\")\n",
        "        uw += 1\n",
        "    else:\n",
        "        print(\"졌습니다.\")\n",
        "        cw += 1\n",
        "    \n",
        "    if uw >= 2 or cw >= 2:\n",
        "        break\n",
        "\n",
        "    print()\n",
        "    count += 1\n",
        "\n",
        "if uw > cw:\n",
        "    print(\"유저가 최종승리하였습니다.\")\n",
        "elif uw < cw:\n",
        "    print(\"컴퓨터가 최종승리하였습니다.\")\n",
        "else:\n",
        "    print(\"무승부입니다.\")"
      ],
      "metadata": {
        "colab": {
          "base_uri": "https://localhost:8080/"
        },
        "id": "LTdJnFsfekbM",
        "outputId": "00706f63-2604-42e0-b32d-5a2bc333bb64"
      },
      "execution_count": null,
      "outputs": [
        {
          "output_type": "stream",
          "name": "stdout",
          "text": [
            "가위 바위 보 중 하나를 입력하시오 : 가위\n",
            "컴퓨터 = 가위\n",
            "비겼습니다.\n",
            "\n",
            "가위 바위 보 중 하나를 입력하시오 : 바위\n",
            "컴퓨터 = 가위\n",
            "이겼습니다.\n",
            "\n",
            "가위 바위 보 중 하나를 입력하시오 : 보\n",
            "컴퓨터 = 가위\n",
            "졌습니다.\n",
            "\n",
            "무승부입니다.\n"
          ]
        }
      ]
    },
    {
      "cell_type": "markdown",
      "source": [
        "#9월 26일"
      ],
      "metadata": {
        "id": "FI2fZ6m4GbYS"
      }
    },
    {
      "cell_type": "code",
      "source": [
        "def print_n_times(*values, n=2):\n",
        "    #n번 반복합니다.\n",
        "    for i in range(n);\n",
        "    #value는 리스트처럼 활용합니다.\n",
        "    for value in values:\n",
        "        print(value)\n",
        "        #단순한 줄바꿈\n",
        "        print()\n",
        "\n",
        "#함수를 호출합니다.\n",
        "print_n_times(\"안녕하세요\",\"즐거운\",\"파이썬 프로그래밍\",3)"
      ],
      "metadata": {
        "colab": {
          "base_uri": "https://localhost:8080/",
          "height": 136
        },
        "id": "Rr36ZcfZGgBi",
        "outputId": "6ea4a094-b696-45bf-d0c9-6232086fda7a"
      },
      "execution_count": null,
      "outputs": [
        {
          "output_type": "error",
          "ename": "SyntaxError",
          "evalue": "ignored",
          "traceback": [
            "\u001b[0;36m  File \u001b[0;32m\"<ipython-input-1-d7aa8ea418d5>\"\u001b[0;36m, line \u001b[0;32m3\u001b[0m\n\u001b[0;31m    for i in range(n);\u001b[0m\n\u001b[0m                     ^\u001b[0m\n\u001b[0;31mSyntaxError\u001b[0m\u001b[0;31m:\u001b[0m invalid syntax\n"
          ]
        }
      ]
    },
    {
      "cell_type": "markdown",
      "source": [
        "가변 매개변수는 파라미터 앞이 들어가야 에러가 나지 않는다."
      ],
      "metadata": {
        "id": "c7yP6e1oHOfT"
      }
    },
    {
      "cell_type": "code",
      "source": [
        "def mul(*values):\n",
        "    result=1\n",
        "    for value in values:\n",
        "        result*=value\n",
        "    return result\n",
        "\n",
        "print(mul(5,7,9,10))"
      ],
      "metadata": {
        "colab": {
          "base_uri": "https://localhost:8080/"
        },
        "id": "4WxM3uuCJudR",
        "outputId": "f2a8bd90-1edc-4fd3-967b-4ae0d1220902"
      },
      "execution_count": null,
      "outputs": [
        {
          "output_type": "stream",
          "name": "stdout",
          "text": [
            "3150\n"
          ]
        }
      ]
    },
    {
      "cell_type": "code",
      "source": [
        "# 1. n값 구하기 문제\n",
        "sum=0\n",
        "\n",
        "i=1\n",
        "\n",
        "while True:\n",
        "\n",
        "    sum+=i*i\n",
        "\n",
        "    if sum>5000:\n",
        "\n",
        "        break\n",
        "\n",
        "    i+=1\n",
        "\n",
        "print(\"n의 값은\",i)\n",
        "\n"
      ],
      "metadata": {
        "colab": {
          "base_uri": "https://localhost:8080/"
        },
        "id": "k7V2NKgLXfYl",
        "outputId": "fdfdfe21-5555-4142-e70e-7381911ded23"
      },
      "execution_count": null,
      "outputs": [
        {
          "output_type": "stream",
          "name": "stdout",
          "text": [
            "n의 값은 25\n"
          ]
        }
      ]
    },
    {
      "cell_type": "code",
      "source": [],
      "metadata": {
        "id": "vaWW3q5SYnhF"
      },
      "execution_count": null,
      "outputs": []
    },
    {
      "cell_type": "code",
      "source": [
        "# 3. 영어 성적 평균을 구하는 프로그램\n",
        "\n",
        "eng = [10, 40, 23, 56, 90, 100, 80, 75, 76, 95]\n",
        "\n",
        "def avg(list):\n",
        "    score=0\n",
        "    for average in list:\n",
        "        score += average\n",
        "    return score / len(eng)\n",
        "\n",
        "print(avg(eng))"
      ],
      "metadata": {
        "colab": {
          "base_uri": "https://localhost:8080/"
        },
        "id": "0FB5ME9lYeK8",
        "outputId": "36d65c63-1fbc-408f-c3ee-2e64eac584d4"
      },
      "execution_count": null,
      "outputs": [
        {
          "output_type": "stream",
          "name": "stdout",
          "text": [
            "64.5\n"
          ]
        }
      ]
    },
    {
      "cell_type": "code",
      "source": [
        "# 4번 문제\n",
        "def statement(scoreList):\n",
        "    statementList={\n",
        "        'A':0,\n",
        "        'B':0,\n",
        "        'C':0,\n",
        "        'F':0\n",
        "    }\n",
        "    for score in scoreList:\n",
        "        if 90<=score<=100:\n",
        "            statementList['A']+=1\n",
        "        elif 80<=score:\n",
        "            statementList['B']+=1\n",
        "        elif 70<=score:\n",
        "            statementList['C']+=1\n",
        "        else:\n",
        "            statementList['F']+=1\n",
        "    return statementList\n",
        "    \n",
        "    list=[70,60,65,75,95,90,80,83,87,100]\n",
        "    \n",
        "    print(statement(list))"
      ],
      "metadata": {
        "id": "XEwOkahxZOf8"
      },
      "execution_count": null,
      "outputs": []
    },
    {
      "cell_type": "code",
      "source": [],
      "metadata": {
        "id": "hUeCGu_SIctG"
      },
      "execution_count": null,
      "outputs": []
    }
  ]
}
