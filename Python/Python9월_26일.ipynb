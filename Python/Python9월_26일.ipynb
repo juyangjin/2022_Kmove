{
  "nbformat": 4,
  "nbformat_minor": 0,
  "metadata": {
    "colab": {
      "provenance": [],
      "collapsed_sections": [],
      "toc_visible": true,
      "authorship_tag": "ABX9TyP+yhRZf+gKksxtQV//RNv5",
      "include_colab_link": true
    },
    "kernelspec": {
      "name": "python3",
      "display_name": "Python 3"
    },
    "language_info": {
      "name": "python"
    }
  },
  "cells": [
    {
      "cell_type": "markdown",
      "metadata": {
        "id": "view-in-github",
        "colab_type": "text"
      },
      "source": [
        "<a href=\"https://colab.research.google.com/github/juyangjin/2022_Kmove/blob/master/Python/Python9%EC%9B%94_26%EC%9D%BC.ipynb\" target=\"_parent\"><img src=\"https://colab.research.google.com/assets/colab-badge.svg\" alt=\"Open In Colab\"/></a>"
      ]
    },
    {
      "cell_type": "markdown",
      "source": [
        "#9월 26일"
      ],
      "metadata": {
        "id": "FI2fZ6m4GbYS"
      }
    },
    {
      "cell_type": "code",
      "source": [
        "def print_n_times(*values, n=2):\n",
        "    #n번 반복합니다.\n",
        "    for i in range(n);\n",
        "    #value는 리스트처럼 활용합니다.\n",
        "    for value in values:\n",
        "        print(value)\n",
        "        #단순한 줄바꿈\n",
        "        print()\n",
        "\n",
        "#함수를 호출합니다.\n",
        "print_n_times(\"안녕하세요\",\"즐거운\",\"파이썬 프로그래밍\",3)"
      ],
      "metadata": {
        "colab": {
          "base_uri": "https://localhost:8080/",
          "height": 137
        },
        "id": "Rr36ZcfZGgBi",
        "outputId": "c128046b-08f5-4b7a-c318-30361b2d038c"
      },
      "execution_count": 1,
      "outputs": [
        {
          "output_type": "error",
          "ename": "SyntaxError",
          "evalue": "ignored",
          "traceback": [
            "\u001b[0;36m  File \u001b[0;32m\"<ipython-input-1-d7aa8ea418d5>\"\u001b[0;36m, line \u001b[0;32m3\u001b[0m\n\u001b[0;31m    for i in range(n);\u001b[0m\n\u001b[0m                     ^\u001b[0m\n\u001b[0;31mSyntaxError\u001b[0m\u001b[0;31m:\u001b[0m invalid syntax\n"
          ]
        }
      ]
    },
    {
      "cell_type": "markdown",
      "source": [
        "가변 매개변수는 파라미터 앞이 들어가야 에러가 나지 않는다."
      ],
      "metadata": {
        "id": "c7yP6e1oHOfT"
      }
    },
    {
      "cell_type": "code",
      "source": [
        "def mul(*values):\n",
        "    result=1\n",
        "    for value in values:\n",
        "        result*=value\n",
        "    return result\n",
        "\n",
        "print(mul(5,7,9,10))"
      ],
      "metadata": {
        "colab": {
          "base_uri": "https://localhost:8080/"
        },
        "id": "4WxM3uuCJudR",
        "outputId": "55246546-1cf1-4f14-a8d1-a0155a794895"
      },
      "execution_count": 2,
      "outputs": [
        {
          "output_type": "stream",
          "name": "stdout",
          "text": [
            "3150\n"
          ]
        }
      ]
    },
    {
      "cell_type": "code",
      "source": [
        "# 1. n값 구하기 문제\n",
        "sum=0\n",
        "\n",
        "i=1\n",
        "\n",
        "while True:\n",
        "\n",
        "    sum+=i*i\n",
        "\n",
        "    if sum>5000:\n",
        "\n",
        "        break\n",
        "\n",
        "    i+=1\n",
        "\n",
        "print(\"n의 값은\",i)\n",
        "\n"
      ],
      "metadata": {
        "colab": {
          "base_uri": "https://localhost:8080/"
        },
        "id": "k7V2NKgLXfYl",
        "outputId": "5047155b-e038-4c05-e626-34ef591f75fa"
      },
      "execution_count": 3,
      "outputs": [
        {
          "output_type": "stream",
          "name": "stdout",
          "text": [
            "n의 값은 25\n"
          ]
        }
      ]
    },
    {
      "cell_type": "code",
      "source": [],
      "metadata": {
        "id": "vaWW3q5SYnhF"
      },
      "execution_count": 3,
      "outputs": []
    },
    {
      "cell_type": "code",
      "source": [
        "# 3. 영어 성적 평균을 구하는 프로그램\n",
        "\n",
        "eng = [10, 40, 23, 56, 90, 100, 80, 75, 76, 95]\n",
        "\n",
        "def avg(list):\n",
        "    score=0\n",
        "    for average in list:\n",
        "        score += average\n",
        "    return score / len(eng)\n",
        "\n",
        "print(avg(eng))"
      ],
      "metadata": {
        "colab": {
          "base_uri": "https://localhost:8080/"
        },
        "id": "0FB5ME9lYeK8",
        "outputId": "542fb34c-7d2e-457e-f6a4-3778b031cafb"
      },
      "execution_count": 4,
      "outputs": [
        {
          "output_type": "stream",
          "name": "stdout",
          "text": [
            "64.5\n"
          ]
        }
      ]
    },
    {
      "cell_type": "code",
      "source": [
        "# 4번 문제\n",
        "def statement(scoreList):\n",
        "    statementList={\n",
        "        'A':0,\n",
        "        'B':0,\n",
        "        'C':0,\n",
        "        'F':0\n",
        "    }\n",
        "    for score in scoreList:\n",
        "        if 90<=score<=100:\n",
        "            statementList['A']+=1\n",
        "        elif 80<=score:\n",
        "            statementList['B']+=1\n",
        "        elif 70<=score:\n",
        "            statementList['C']+=1\n",
        "        else:\n",
        "            statementList['F']+=1\n",
        "    return statementList\n",
        "    \n",
        "    list=[70,60,65,75,95,90,80,83,87,100]\n",
        "    \n",
        "    print(statement(list))"
      ],
      "metadata": {
        "id": "XEwOkahxZOf8"
      },
      "execution_count": 5,
      "outputs": []
    }
  ]
}